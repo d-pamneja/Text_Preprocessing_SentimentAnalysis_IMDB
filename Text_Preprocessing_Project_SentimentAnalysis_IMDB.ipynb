{
  "cells": [
    {
      "cell_type": "markdown",
      "metadata": {
        "id": "8V-LmX-H6aoK"
      },
      "source": [
        "# Importing the dependencies"
      ]
    },
    {
      "cell_type": "code",
      "execution_count": null,
      "metadata": {
        "colab": {
          "base_uri": "https://localhost:8080/"
        },
        "id": "kBqbGsCV4V9l",
        "outputId": "63a22011-198c-4c5c-e4ea-0f7178a4f053"
      },
      "outputs": [
        {
          "output_type": "stream",
          "name": "stdout",
          "text": [
            "Requirement already satisfied: emoji in /usr/local/lib/python3.10/dist-packages (2.12.1)\n",
            "Requirement already satisfied: typing-extensions>=4.7.0 in /usr/local/lib/python3.10/dist-packages (from emoji) (4.11.0)\n"
          ]
        }
      ],
      "source": [
        "!pip install emoji"
      ]
    },
    {
      "cell_type": "code",
      "execution_count": null,
      "metadata": {
        "id": "pt_k83Cp6PQb"
      },
      "outputs": [],
      "source": [
        "import os\n",
        "import pandas as pd\n",
        "import numpy as np\n",
        "import matplotlib.pyplot as plt\n",
        "import re\n",
        "import string\n",
        "import textblob\n",
        "import nltk\n",
        "import emoji\n",
        "\n",
        "from sklearn.preprocessing import OneHotEncoder\n",
        "from sklearn.feature_extraction.text import CountVectorizer\n",
        "from sklearn.feature_extraction.text import TfidfVectorizer\n",
        "\n",
        "\n",
        "from nltk.stem import PorterStemmer\n",
        "from nltk.stem import WordNetLemmatizer\n",
        "from nltk.corpus import stopwords\n",
        "\n",
        "from sklearn.model_selection import train_test_split\n",
        "from sklearn.metrics import f1_score\n",
        "\n",
        "from sklearn.linear_model import LogisticRegression\n",
        "from sklearn.svm import SVC\n",
        "from sklearn.naive_bayes import MultinomialNB\n",
        "from sklearn.ensemble import RandomForestClassifier\n",
        "from xgboost.sklearn import XGBClassifier\n",
        "from sklearn.ensemble import VotingClassifier\n",
        "from sklearn.ensemble import StackingClassifier\n"
      ]
    },
    {
      "cell_type": "code",
      "execution_count": null,
      "metadata": {
        "colab": {
          "base_uri": "https://localhost:8080/"
        },
        "id": "TBTEm4ItSx6r",
        "outputId": "7777e3b2-e2a3-4c8e-97e1-c38128c153b3"
      },
      "outputs": [
        {
          "output_type": "stream",
          "name": "stderr",
          "text": [
            "[nltk_data] Downloading package stopwords to /root/nltk_data...\n",
            "[nltk_data]   Package stopwords is already up-to-date!\n",
            "[nltk_data] Downloading package punkt to /root/nltk_data...\n",
            "[nltk_data]   Package punkt is already up-to-date!\n",
            "[nltk_data] Downloading package wordnet to /root/nltk_data...\n",
            "[nltk_data]   Package wordnet is already up-to-date!\n"
          ]
        },
        {
          "output_type": "execute_result",
          "data": {
            "text/plain": [
              "True"
            ]
          },
          "metadata": {},
          "execution_count": 3
        }
      ],
      "source": [
        "nltk.download(\"stopwords\")\n",
        "nltk.download('punkt')\n",
        "nltk.download('wordnet')\n"
      ]
    },
    {
      "cell_type": "markdown",
      "metadata": {
        "id": "-o4PVuhu6vEM"
      },
      "source": [
        "# Loading the Data\n",
        "Here, we will load the data of IMDB dataset that has 50K movie reviews with their sentiment as either positive or negative.\n",
        "\n"
      ]
    },
    {
      "cell_type": "code",
      "execution_count": null,
      "metadata": {
        "colab": {
          "base_uri": "https://localhost:8080/",
          "height": 359
        },
        "id": "YKHbS6X46yDC",
        "outputId": "95a3f946-bdc3-41ea-a17d-c5bb9ea4d113"
      },
      "outputs": [
        {
          "output_type": "execute_result",
          "data": {
            "text/plain": [
              "                                              review sentiment\n",
              "0  One of the other reviewers has mentioned that ...  positive\n",
              "1  A wonderful little production. <br /><br />The...  positive\n",
              "2  I thought this was a wonderful way to spend ti...  positive\n",
              "3  Basically there's a family where a little boy ...  negative\n",
              "4  Petter Mattei's \"Love in the Time of Money\" is...  positive\n",
              "5  Probably my all-time favorite movie, a story o...  positive\n",
              "6  I sure would like to see a resurrection of a u...  positive\n",
              "7  This show was an amazing, fresh & innovative i...  negative\n",
              "8  Encouraged by the positive comments about this...  negative\n",
              "9  If you like original gut wrenching laughter yo...  positive"
            ],
            "text/html": [
              "\n",
              "  <div id=\"df-c121fee1-0283-481e-a5c3-817479fbffd7\" class=\"colab-df-container\">\n",
              "    <div>\n",
              "<style scoped>\n",
              "    .dataframe tbody tr th:only-of-type {\n",
              "        vertical-align: middle;\n",
              "    }\n",
              "\n",
              "    .dataframe tbody tr th {\n",
              "        vertical-align: top;\n",
              "    }\n",
              "\n",
              "    .dataframe thead th {\n",
              "        text-align: right;\n",
              "    }\n",
              "</style>\n",
              "<table border=\"1\" class=\"dataframe\">\n",
              "  <thead>\n",
              "    <tr style=\"text-align: right;\">\n",
              "      <th></th>\n",
              "      <th>review</th>\n",
              "      <th>sentiment</th>\n",
              "    </tr>\n",
              "  </thead>\n",
              "  <tbody>\n",
              "    <tr>\n",
              "      <th>0</th>\n",
              "      <td>One of the other reviewers has mentioned that ...</td>\n",
              "      <td>positive</td>\n",
              "    </tr>\n",
              "    <tr>\n",
              "      <th>1</th>\n",
              "      <td>A wonderful little production. &lt;br /&gt;&lt;br /&gt;The...</td>\n",
              "      <td>positive</td>\n",
              "    </tr>\n",
              "    <tr>\n",
              "      <th>2</th>\n",
              "      <td>I thought this was a wonderful way to spend ti...</td>\n",
              "      <td>positive</td>\n",
              "    </tr>\n",
              "    <tr>\n",
              "      <th>3</th>\n",
              "      <td>Basically there's a family where a little boy ...</td>\n",
              "      <td>negative</td>\n",
              "    </tr>\n",
              "    <tr>\n",
              "      <th>4</th>\n",
              "      <td>Petter Mattei's \"Love in the Time of Money\" is...</td>\n",
              "      <td>positive</td>\n",
              "    </tr>\n",
              "    <tr>\n",
              "      <th>5</th>\n",
              "      <td>Probably my all-time favorite movie, a story o...</td>\n",
              "      <td>positive</td>\n",
              "    </tr>\n",
              "    <tr>\n",
              "      <th>6</th>\n",
              "      <td>I sure would like to see a resurrection of a u...</td>\n",
              "      <td>positive</td>\n",
              "    </tr>\n",
              "    <tr>\n",
              "      <th>7</th>\n",
              "      <td>This show was an amazing, fresh &amp; innovative i...</td>\n",
              "      <td>negative</td>\n",
              "    </tr>\n",
              "    <tr>\n",
              "      <th>8</th>\n",
              "      <td>Encouraged by the positive comments about this...</td>\n",
              "      <td>negative</td>\n",
              "    </tr>\n",
              "    <tr>\n",
              "      <th>9</th>\n",
              "      <td>If you like original gut wrenching laughter yo...</td>\n",
              "      <td>positive</td>\n",
              "    </tr>\n",
              "  </tbody>\n",
              "</table>\n",
              "</div>\n",
              "    <div class=\"colab-df-buttons\">\n",
              "\n",
              "  <div class=\"colab-df-container\">\n",
              "    <button class=\"colab-df-convert\" onclick=\"convertToInteractive('df-c121fee1-0283-481e-a5c3-817479fbffd7')\"\n",
              "            title=\"Convert this dataframe to an interactive table.\"\n",
              "            style=\"display:none;\">\n",
              "\n",
              "  <svg xmlns=\"http://www.w3.org/2000/svg\" height=\"24px\" viewBox=\"0 -960 960 960\">\n",
              "    <path d=\"M120-120v-720h720v720H120Zm60-500h600v-160H180v160Zm220 220h160v-160H400v160Zm0 220h160v-160H400v160ZM180-400h160v-160H180v160Zm440 0h160v-160H620v160ZM180-180h160v-160H180v160Zm440 0h160v-160H620v160Z\"/>\n",
              "  </svg>\n",
              "    </button>\n",
              "\n",
              "  <style>\n",
              "    .colab-df-container {\n",
              "      display:flex;\n",
              "      gap: 12px;\n",
              "    }\n",
              "\n",
              "    .colab-df-convert {\n",
              "      background-color: #E8F0FE;\n",
              "      border: none;\n",
              "      border-radius: 50%;\n",
              "      cursor: pointer;\n",
              "      display: none;\n",
              "      fill: #1967D2;\n",
              "      height: 32px;\n",
              "      padding: 0 0 0 0;\n",
              "      width: 32px;\n",
              "    }\n",
              "\n",
              "    .colab-df-convert:hover {\n",
              "      background-color: #E2EBFA;\n",
              "      box-shadow: 0px 1px 2px rgba(60, 64, 67, 0.3), 0px 1px 3px 1px rgba(60, 64, 67, 0.15);\n",
              "      fill: #174EA6;\n",
              "    }\n",
              "\n",
              "    .colab-df-buttons div {\n",
              "      margin-bottom: 4px;\n",
              "    }\n",
              "\n",
              "    [theme=dark] .colab-df-convert {\n",
              "      background-color: #3B4455;\n",
              "      fill: #D2E3FC;\n",
              "    }\n",
              "\n",
              "    [theme=dark] .colab-df-convert:hover {\n",
              "      background-color: #434B5C;\n",
              "      box-shadow: 0px 1px 3px 1px rgba(0, 0, 0, 0.15);\n",
              "      filter: drop-shadow(0px 1px 2px rgba(0, 0, 0, 0.3));\n",
              "      fill: #FFFFFF;\n",
              "    }\n",
              "  </style>\n",
              "\n",
              "    <script>\n",
              "      const buttonEl =\n",
              "        document.querySelector('#df-c121fee1-0283-481e-a5c3-817479fbffd7 button.colab-df-convert');\n",
              "      buttonEl.style.display =\n",
              "        google.colab.kernel.accessAllowed ? 'block' : 'none';\n",
              "\n",
              "      async function convertToInteractive(key) {\n",
              "        const element = document.querySelector('#df-c121fee1-0283-481e-a5c3-817479fbffd7');\n",
              "        const dataTable =\n",
              "          await google.colab.kernel.invokeFunction('convertToInteractive',\n",
              "                                                    [key], {});\n",
              "        if (!dataTable) return;\n",
              "\n",
              "        const docLinkHtml = 'Like what you see? Visit the ' +\n",
              "          '<a target=\"_blank\" href=https://colab.research.google.com/notebooks/data_table.ipynb>data table notebook</a>'\n",
              "          + ' to learn more about interactive tables.';\n",
              "        element.innerHTML = '';\n",
              "        dataTable['output_type'] = 'display_data';\n",
              "        await google.colab.output.renderOutput(dataTable, element);\n",
              "        const docLink = document.createElement('div');\n",
              "        docLink.innerHTML = docLinkHtml;\n",
              "        element.appendChild(docLink);\n",
              "      }\n",
              "    </script>\n",
              "  </div>\n",
              "\n",
              "\n",
              "<div id=\"df-fb8f8dc8-8fed-4ca8-904c-c14f9d8defda\">\n",
              "  <button class=\"colab-df-quickchart\" onclick=\"quickchart('df-fb8f8dc8-8fed-4ca8-904c-c14f9d8defda')\"\n",
              "            title=\"Suggest charts\"\n",
              "            style=\"display:none;\">\n",
              "\n",
              "<svg xmlns=\"http://www.w3.org/2000/svg\" height=\"24px\"viewBox=\"0 0 24 24\"\n",
              "     width=\"24px\">\n",
              "    <g>\n",
              "        <path d=\"M19 3H5c-1.1 0-2 .9-2 2v14c0 1.1.9 2 2 2h14c1.1 0 2-.9 2-2V5c0-1.1-.9-2-2-2zM9 17H7v-7h2v7zm4 0h-2V7h2v10zm4 0h-2v-4h2v4z\"/>\n",
              "    </g>\n",
              "</svg>\n",
              "  </button>\n",
              "\n",
              "<style>\n",
              "  .colab-df-quickchart {\n",
              "      --bg-color: #E8F0FE;\n",
              "      --fill-color: #1967D2;\n",
              "      --hover-bg-color: #E2EBFA;\n",
              "      --hover-fill-color: #174EA6;\n",
              "      --disabled-fill-color: #AAA;\n",
              "      --disabled-bg-color: #DDD;\n",
              "  }\n",
              "\n",
              "  [theme=dark] .colab-df-quickchart {\n",
              "      --bg-color: #3B4455;\n",
              "      --fill-color: #D2E3FC;\n",
              "      --hover-bg-color: #434B5C;\n",
              "      --hover-fill-color: #FFFFFF;\n",
              "      --disabled-bg-color: #3B4455;\n",
              "      --disabled-fill-color: #666;\n",
              "  }\n",
              "\n",
              "  .colab-df-quickchart {\n",
              "    background-color: var(--bg-color);\n",
              "    border: none;\n",
              "    border-radius: 50%;\n",
              "    cursor: pointer;\n",
              "    display: none;\n",
              "    fill: var(--fill-color);\n",
              "    height: 32px;\n",
              "    padding: 0;\n",
              "    width: 32px;\n",
              "  }\n",
              "\n",
              "  .colab-df-quickchart:hover {\n",
              "    background-color: var(--hover-bg-color);\n",
              "    box-shadow: 0 1px 2px rgba(60, 64, 67, 0.3), 0 1px 3px 1px rgba(60, 64, 67, 0.15);\n",
              "    fill: var(--button-hover-fill-color);\n",
              "  }\n",
              "\n",
              "  .colab-df-quickchart-complete:disabled,\n",
              "  .colab-df-quickchart-complete:disabled:hover {\n",
              "    background-color: var(--disabled-bg-color);\n",
              "    fill: var(--disabled-fill-color);\n",
              "    box-shadow: none;\n",
              "  }\n",
              "\n",
              "  .colab-df-spinner {\n",
              "    border: 2px solid var(--fill-color);\n",
              "    border-color: transparent;\n",
              "    border-bottom-color: var(--fill-color);\n",
              "    animation:\n",
              "      spin 1s steps(1) infinite;\n",
              "  }\n",
              "\n",
              "  @keyframes spin {\n",
              "    0% {\n",
              "      border-color: transparent;\n",
              "      border-bottom-color: var(--fill-color);\n",
              "      border-left-color: var(--fill-color);\n",
              "    }\n",
              "    20% {\n",
              "      border-color: transparent;\n",
              "      border-left-color: var(--fill-color);\n",
              "      border-top-color: var(--fill-color);\n",
              "    }\n",
              "    30% {\n",
              "      border-color: transparent;\n",
              "      border-left-color: var(--fill-color);\n",
              "      border-top-color: var(--fill-color);\n",
              "      border-right-color: var(--fill-color);\n",
              "    }\n",
              "    40% {\n",
              "      border-color: transparent;\n",
              "      border-right-color: var(--fill-color);\n",
              "      border-top-color: var(--fill-color);\n",
              "    }\n",
              "    60% {\n",
              "      border-color: transparent;\n",
              "      border-right-color: var(--fill-color);\n",
              "    }\n",
              "    80% {\n",
              "      border-color: transparent;\n",
              "      border-right-color: var(--fill-color);\n",
              "      border-bottom-color: var(--fill-color);\n",
              "    }\n",
              "    90% {\n",
              "      border-color: transparent;\n",
              "      border-bottom-color: var(--fill-color);\n",
              "    }\n",
              "  }\n",
              "</style>\n",
              "\n",
              "  <script>\n",
              "    async function quickchart(key) {\n",
              "      const quickchartButtonEl =\n",
              "        document.querySelector('#' + key + ' button');\n",
              "      quickchartButtonEl.disabled = true;  // To prevent multiple clicks.\n",
              "      quickchartButtonEl.classList.add('colab-df-spinner');\n",
              "      try {\n",
              "        const charts = await google.colab.kernel.invokeFunction(\n",
              "            'suggestCharts', [key], {});\n",
              "      } catch (error) {\n",
              "        console.error('Error during call to suggestCharts:', error);\n",
              "      }\n",
              "      quickchartButtonEl.classList.remove('colab-df-spinner');\n",
              "      quickchartButtonEl.classList.add('colab-df-quickchart-complete');\n",
              "    }\n",
              "    (() => {\n",
              "      let quickchartButtonEl =\n",
              "        document.querySelector('#df-fb8f8dc8-8fed-4ca8-904c-c14f9d8defda button');\n",
              "      quickchartButtonEl.style.display =\n",
              "        google.colab.kernel.accessAllowed ? 'block' : 'none';\n",
              "    })();\n",
              "  </script>\n",
              "</div>\n",
              "\n",
              "    </div>\n",
              "  </div>\n"
            ],
            "application/vnd.google.colaboratory.intrinsic+json": {
              "type": "dataframe",
              "variable_name": "data",
              "summary": "{\n  \"name\": \"data\",\n  \"rows\": 50000,\n  \"fields\": [\n    {\n      \"column\": \"review\",\n      \"properties\": {\n        \"dtype\": \"string\",\n        \"num_unique_values\": 49582,\n        \"samples\": [\n          \"\\\"Soul Plane\\\" is a horrible attempt at comedy that only should appeal people with thick skulls, bloodshot eyes and furry pawns. <br /><br />The plot is not only incoherent but also non-existent, acting is mostly sub sub-par with a gang of highly moronic and dreadful characters thrown in for bad measure, jokes are often spotted miles ahead and almost never even a bit amusing. This movie lacks any structure and is full of racial stereotypes that must have seemed old even in the fifties, the only thing it really has going for it is some pretty ladies, but really, if you want that you can rent something from the \\\"Adult\\\" section. OK?<br /><br />I can hardly see anything here to recommend since you'll probably have a lot a better and productive time chasing rats with a sledgehammer or inventing waterproof teabags or whatever.<br /><br />2/10\",\n          \"Guest from the Future tells a fascinating story of time travel, friendship, battle of good and evil -- all with a small budget, child actors, and few special effects. Something for Spielberg and Lucas to learn from. ;) A sixth-grader Kolya \\\"Nick\\\" Gerasimov finds a time machine in the basement of a decrepit building and travels 100 years into the future. He discovers a near-perfect, utopian society where robots play guitars and write poetry, everyone is kind to each other and people enjoy everything technology has to offer. Alice is the daughter of a prominent scientist who invented a device called Mielophone that allows to read minds of humans and animals. The device can be put to both good and bad use, depending on whose hands it falls into. When two evil space pirates from Saturn who want to rule the universe attempt to steal Mielophone, it falls into the hands of 20th century school boy Nick. With the pirates hot on his tracks, he travels back to his time, followed by the pirates, and Alice. Chaos, confusion and funny situations follow as the luckless pirates try to blend in with the earthlings. Alice enrolls in the same school Nick goes to and demonstrates superhuman abilities in PE class. The catch is, Alice doesn't know what Nick looks like, while the pirates do. Also, the pirates are able to change their appearance and turn literally into anyone. (Hmm, I wonder if this is where James Cameron got the idea for Terminator...) Who gets to Nick -- and Mielophone -- first? Excellent plot, non-stop adventures, and great soundtrack. I wish Hollywood made kid movies like this one...\",\n          \"\\\"National Treasure\\\" (2004) is a thoroughly misguided hodge-podge of plot entanglements that borrow from nearly every cloak and dagger government conspiracy clich\\u00e9 that has ever been written. The film stars Nicholas Cage as Benjamin Franklin Gates (how precious is that, I ask you?); a seemingly normal fellow who, for no other reason than being of a lineage of like-minded misguided fortune hunters, decides to steal a 'national treasure' that has been hidden by the United States founding fathers. After a bit of subtext and background that plays laughably (unintentionally) like Indiana Jones meets The Patriot, the film degenerates into one misguided whimsy after another \\u0096 attempting to create a 'Stanley Goodspeed' regurgitation of Nicholas Cage and launch the whole convoluted mess forward with a series of high octane, but disconnected misadventures.<br /><br />The relevancy and logic to having George Washington and his motley crew of patriots burying a king's ransom someplace on native soil, and then, going through the meticulous plan of leaving clues scattered throughout U.S. currency art work, is something that director Jon Turteltaub never quite gets around to explaining. Couldn't Washington found better usage for such wealth during the start up of the country? Hence, we are left with a mystery built on top of an enigma that is already on shaky ground by the time Ben appoints himself the new custodian of this untold wealth. Ben's intentions are noble \\u0096 if confusing. He's set on protecting the treasure. For who and when?\\u0085your guess is as good as mine.<br /><br />But there are a few problems with Ben's crusade. First up, his friend, Ian Holmes (Sean Bean) decides that he can't wait for Ben to make up his mind about stealing the Declaration of Independence from the National Archives (oh, yeah \\u0096 brilliant idea!). Presumably, the back of that famous document holds the secret answer to the ultimate fortune. So Ian tries to kill Ben. The assassination attempt is, of course, unsuccessful, if overly melodramatic. It also affords Ben the opportunity to pick up, and pick on, the very sultry curator of the archives, Abigail Chase (Diane Kruger). She thinks Ben is clearly a nut \\u0096 at least at the beginning. But true to action/romance form, Abby's resolve melts quicker than you can say, \\\"is that the Hope Diamond?\\\" The film moves into full X-File-ish mode, as the FBI, mistakenly believing that Ben is behind the theft, retaliate in various benign ways that lead to a multi-layering of action sequences reminiscent of Mission Impossible meets The Fugitive. Honestly, don't those guys ever get 'intelligence' information that is correct? In the final analysis, \\\"National Treasure\\\" isn't great film making, so much as it's a patchwork rehash of tired old bits from other movies, woven together from scraps, the likes of which would make IL' Betsy Ross blush.<br /><br />The Buena Vista DVD delivers a far more generous treatment than this film is deserving of. The anamorphic widescreen picture exhibits a very smooth and finely detailed image with very rich colors, natural flesh tones, solid blacks and clean whites. The stylized image is also free of blemishes and digital enhancements. The audio is 5.1 and delivers a nice sonic boom to your side and rear speakers with intensity and realism. Extras include a host of promotional junket material that is rather deep and over the top in its explanation of how and why this film was made. If only, as an audience, we had had more clarification as to why Ben and co. were chasing after an illusive treasure, this might have been one good flick. Extras conclude with the theatrical trailer, audio commentary and deleted scenes. Not for the faint-hearted \\u0096 just the thick-headed.\"\n        ],\n        \"semantic_type\": \"\",\n        \"description\": \"\"\n      }\n    },\n    {\n      \"column\": \"sentiment\",\n      \"properties\": {\n        \"dtype\": \"category\",\n        \"num_unique_values\": 2,\n        \"samples\": [\n          \"negative\",\n          \"positive\"\n        ],\n        \"semantic_type\": \"\",\n        \"description\": \"\"\n      }\n    }\n  ]\n}"
            }
          },
          "metadata": {},
          "execution_count": 61
        }
      ],
      "source": [
        "data = pd.read_csv(\"https://raw.githubusercontent.com/Ankit152/IMDB-sentiment-analysis/master/IMDB-Dataset.csv\")\n",
        "data.head(10)"
      ]
    },
    {
      "cell_type": "code",
      "execution_count": null,
      "metadata": {
        "colab": {
          "base_uri": "https://localhost:8080/"
        },
        "id": "Ocwc_bCf7HNv",
        "outputId": "e653a1a2-4712-401b-8bce-8c5766e2cd82"
      },
      "outputs": [
        {
          "output_type": "stream",
          "name": "stdout",
          "text": [
            "The number of movies in the data set are : 50000\n"
          ]
        }
      ],
      "source": [
        "print(f\"The number of movies in the data set are : {data.shape[0]}\")"
      ]
    },
    {
      "cell_type": "markdown",
      "metadata": {
        "id": "tesSVPbF9uqV"
      },
      "source": [
        "Let us see a few examples"
      ]
    },
    {
      "cell_type": "code",
      "execution_count": null,
      "metadata": {
        "colab": {
          "base_uri": "https://localhost:8080/",
          "height": 137
        },
        "id": "rONxamRw8lX8",
        "outputId": "8dac74b2-4ec0-46c9-97c2-dc1d08ad0ad0"
      },
      "outputs": [
        {
          "output_type": "execute_result",
          "data": {
            "text/plain": [
              "\"One of the other reviewers has mentioned that after watching just 1 Oz episode you'll be hooked. They are right, as this is exactly what happened with me.<br /><br />The first thing that struck me about Oz was its brutality and unflinching scenes of violence, which set in right from the word GO. Trust me, this is not a show for the faint hearted or timid. This show pulls no punches with regards to drugs, sex or violence. Its is hardcore, in the classic use of the word.<br /><br />It is called OZ as that is the nickname given to the Oswald Maximum Security State Penitentary. It focuses mainly on Emerald City, an experimental section of the prison where all the cells have glass fronts and face inwards, so privacy is not high on the agenda. Em City is home to many..Aryans, Muslims, gangstas, Latinos, Christians, Italians, Irish and more....so scuffles, death stares, dodgy dealings and shady agreements are never far away.<br /><br />I would say the main appeal of the show is due to the fact that it goes where other shows wouldn't dare. Forget pretty pictures painted for mainstream audiences, forget charm, forget romance...OZ doesn't mess around. The first episode I ever saw struck me as so nasty it was surreal, I couldn't say I was ready for it, but as I watched more, I developed a taste for Oz, and got accustomed to the high levels of graphic violence. Not just violence, but injustice (crooked guards who'll be sold out for a nickel, inmates who'll kill on order and get away with it, well mannered, middle class inmates being turned into prison bitches due to their lack of street skills or prison experience) Watching Oz, you may become comfortable with what is uncomfortable viewing....thats if you can get in touch with your darker side.\""
            ],
            "application/vnd.google.colaboratory.intrinsic+json": {
              "type": "string"
            }
          },
          "metadata": {},
          "execution_count": 6
        }
      ],
      "source": [
        "data[\"review\"][0]"
      ]
    },
    {
      "cell_type": "code",
      "execution_count": null,
      "metadata": {
        "colab": {
          "base_uri": "https://localhost:8080/",
          "height": 103
        },
        "id": "s3xUKNpm8pfI",
        "outputId": "338b88dd-b175-4b72-a819-57dde839dd60"
      },
      "outputs": [
        {
          "output_type": "execute_result",
          "data": {
            "text/plain": [
              "\"I bought this game on an impulse buy from walmart. I am glad I did. It was very entertaining listening to Sean Connery and playing the game. I thought the graphics were the best I have ever seen in a movie/game remake. The bonus levels were very hard! The sniper one I think was too hard, it made me so frustrated I didn't play the game for a week and a half. There were too many people shooting at you with nothing to hide behind or life to handle it. <br /><br />The only thing I might change was the upgrade system. I didn't notice any difference from un-upgraded equipment to the upgraded, such as buying an armor upgrade didn't seem to make the armor stronger or more filling on my life meter. I really liked the Q copter. I think the developers did a good job.\""
            ],
            "application/vnd.google.colaboratory.intrinsic+json": {
              "type": "string"
            }
          },
          "metadata": {},
          "execution_count": 7
        }
      ],
      "source": [
        "data[\"review\"][102]"
      ]
    },
    {
      "cell_type": "code",
      "execution_count": null,
      "metadata": {
        "colab": {
          "base_uri": "https://localhost:8080/",
          "height": 137
        },
        "id": "m94l4DSr8wFt",
        "outputId": "9eb20bc9-dc6b-4b19-8db8-b40b2d4bab78"
      },
      "outputs": [
        {
          "output_type": "execute_result",
          "data": {
            "text/plain": [
              "\"The cover art (which features a man holding a scary pellet gun) would make it seem as if it's a martial arts film. (Hardly.)<br /><br />I find it interesting that the film's real title is Trojan Warrior. (Trojan is a brand of condoms in the US) This movie is loaded with homoeroticism. If you like that stuff, then this film isn't that bad really. However, consider these points:<br /><br />There are numerous close-ups of actors' groins & butts, (One scene even features every actor with an erection bulging in his pants.) the film is also bathed in gaudy colors like lime, peach, and red. From a cinematographer's standpoint, this movie's a drag queen! Several scenes feature characters standing EXTREMELY close to one another, occasionally touching as they converse. Also, the cousin of the hero likes women, and every other guy in the movie is trying to kill him. Is there a message here the filmmakers want to convey? <br /><br />Shall I go into the fight scenes? (Yes, someone's private parts get grabbed in one fight.) The martial arts scenes are brief and unimaginative. No fancy stuff here, just your standard moves you'd see in an old Chuck Norris flick. There's also a car chase scene which may be the first ever LOW-speed chase put on film.\""
            ],
            "application/vnd.google.colaboratory.intrinsic+json": {
              "type": "string"
            }
          },
          "metadata": {},
          "execution_count": 8
        }
      ],
      "source": [
        "data[\"review\"][49281]"
      ]
    },
    {
      "cell_type": "markdown",
      "metadata": {
        "id": "4xIaNdB779yn"
      },
      "source": [
        "However, there are a few reviews which are not exactly clean. They have HTML tags inside of them and '\\n' line breakers, which we can see from the examples above.\n",
        "\n",
        "Therefore, if this data is used for any learning tasks and is given as training data, it may not be the most apt representation of real world data and the model would tend to give faulty responses. Data integrity is of core importance for any machine learning/AI task. So let us get started with the data cleaning part."
      ]
    },
    {
      "cell_type": "markdown",
      "metadata": {
        "id": "c3X84g0f9JQA"
      },
      "source": [
        "# Data Cleaning Techniques"
      ]
    },
    {
      "cell_type": "markdown",
      "metadata": {
        "id": "Qg4K2BG_9Oq5"
      },
      "source": [
        "## Lower Casing\n",
        "First, it is important that we understand that a computer would process capital and small letters in the same words differently, despite them implying the same meaning. Hence to tackle this, it is always advisible to convert everything into small character based words."
      ]
    },
    {
      "cell_type": "code",
      "execution_count": null,
      "metadata": {
        "id": "6tvS4nVF7iLK"
      },
      "outputs": [],
      "source": [
        "data[\"review\"] = data[\"review\"].str.lower()"
      ]
    },
    {
      "cell_type": "code",
      "execution_count": null,
      "metadata": {
        "colab": {
          "base_uri": "https://localhost:8080/",
          "height": 120
        },
        "id": "82l0qzYv9ks5",
        "outputId": "d13342b1-6c31-4338-c6bd-1f80802e0463"
      },
      "outputs": [
        {
          "output_type": "execute_result",
          "data": {
            "text/plain": [
              "'i thought this was a wonderful way to spend time on a too hot summer weekend, sitting in the air conditioned theater and watching a light-hearted comedy. the plot is simplistic, but the dialogue is witty and the characters are likable (even the well bread suspected serial killer). while some may be disappointed when they realize this is not match point 2: risk addiction, i thought it was proof that woody allen is still fully in control of the style many of us have grown to love.<br /><br />this was the most i\\'d laughed at one of woody\\'s comedies in years (dare i say a decade?). while i\\'ve never been impressed with scarlet johanson, in this she managed to tone down her \"sexy\" image and jumped right into a average, but spirited young woman.<br /><br />this may not be the crown jewel of his career, but it was wittier than \"devil wears prada\" and more interesting than \"superman\" a great comedy to go see with friends.'"
            ],
            "application/vnd.google.colaboratory.intrinsic+json": {
              "type": "string"
            }
          },
          "metadata": {},
          "execution_count": 10
        }
      ],
      "source": [
        "data[\"review\"][2]"
      ]
    },
    {
      "cell_type": "markdown",
      "metadata": {
        "id": "cMhACGkU99x8"
      },
      "source": [
        "## HTML Tag Removal using REGEX\n",
        "We will now remove the html tags in the reviews based on the python module of **Regular Expression**, a descriptive link for which can be found [here](https://docs.python.org/3/library/re.html)."
      ]
    },
    {
      "cell_type": "code",
      "execution_count": null,
      "metadata": {
        "id": "PPPKWg659oS2"
      },
      "outputs": [],
      "source": [
        "def remove_html_tag(text):\n",
        "  # We will create a pattern of html tags (means any content which is encapsulated between HTML tags), and then replace/substitute it with an single space string across the text\n",
        "  pattern = re.compile('<.*?>')\n",
        "  return pattern.sub(\" \",text)"
      ]
    },
    {
      "cell_type": "markdown",
      "metadata": {
        "id": "RDU002PZAZsr"
      },
      "source": [
        "## URL Removal using REGEX\n",
        "Similarly, let us now create a functionality to remove URL data should it exist in our data."
      ]
    },
    {
      "cell_type": "code",
      "execution_count": null,
      "metadata": {
        "id": "Jr37kR1x-7Zn"
      },
      "outputs": [],
      "source": [
        "def remove_url(text):\n",
        "  # We will create a pattern of url string (means any content which is a URL), and then replace/substitute it with an single space string across the text\n",
        "  pattern = re.compile('https?://\\S+|www\\.\\S+')\n",
        "  return pattern.sub(\" \",text)"
      ]
    },
    {
      "cell_type": "markdown",
      "metadata": {
        "id": "AeDAmXeKBmzz"
      },
      "source": [
        "## Punctuation Removal\n",
        "Similarly, let us now create a functionality to remove any punctuations,  should it exist in our data of reviews. This we will do with the help of **string** library."
      ]
    },
    {
      "cell_type": "code",
      "execution_count": null,
      "metadata": {
        "id": "ttdNOTA-Bv5j"
      },
      "outputs": [],
      "source": [
        "punctuations = string.punctuation\n",
        "\n",
        "def remove_punc(text):\n",
        "  # We will run a loop to replace all punctuations (as defined above) with a single space string in a given text\n",
        "  for char in punctuations:\n",
        "    text = text.replace(char,\" \")\n",
        "  return text"
      ]
    },
    {
      "cell_type": "markdown",
      "metadata": {
        "id": "RfTwX_9oECPO"
      },
      "source": [
        "## Abrevation Subsitution\n",
        "Let us now create a functionality to modify any abrevations in a text to their full meaning,  should it exist in our data of reviews. This we will do with the help of giving a dictionary of potential abrevations."
      ]
    },
    {
      "cell_type": "code",
      "execution_count": null,
      "metadata": {
        "id": "56EKKzi7CnO1"
      },
      "outputs": [],
      "source": [
        "chat_words={\n",
        "    \"AFAIK\":\"As Far As I Know\",\n",
        "    \"AFK\": \"Away From Keyboard\",\n",
        "    \"ASAP\":\"As Soon As Possible\",\n",
        "    \"BTW\":\"By The Way\",\n",
        "    \"B4\":\"Before\",\n",
        "    \"FYI\":\"For your information\"\n",
        "}"
      ]
    },
    {
      "cell_type": "code",
      "execution_count": null,
      "metadata": {
        "id": "j2pxv_jPEchr"
      },
      "outputs": [],
      "source": [
        "def chat_conversion(text):\n",
        "    new_text=[]\n",
        "    for w in text.split():\n",
        "        if w.upper() in chat_words:\n",
        "            new_text.append(chat_words[w.upper()])\n",
        "        else:\n",
        "            new_text.append(w)\n",
        "    return \" \".join(new_text)"
      ]
    },
    {
      "cell_type": "markdown",
      "metadata": {
        "id": "m2cRI8DGFYLY"
      },
      "source": [
        "## Spelling Correction using TextBlob\n",
        "Here, we will use the **TextBlob class** from the textblob library, which allows us to correct any spelling errors in out data."
      ]
    },
    {
      "cell_type": "code",
      "execution_count": null,
      "metadata": {
        "id": "e4YSmMBMExTl"
      },
      "outputs": [],
      "source": [
        "from textblob import TextBlob # Importing the class module from textblob\n",
        "\n",
        "def correct_spell(text):\n",
        "  instance = TextBlob(text)\n",
        "  return instance.correct().string"
      ]
    },
    {
      "cell_type": "markdown",
      "metadata": {
        "id": "NjqsurRQG2H7"
      },
      "source": [
        "Note that this TextBlob instance may not able to give the correct spelling for all words, as it does not entirely understand the context as in depth as some high end models."
      ]
    },
    {
      "cell_type": "markdown",
      "metadata": {
        "id": "kZJKF3PfHJ9p"
      },
      "source": [
        "## Stop Words\n",
        "Now, there are some words which do not provide any semantic meaning to the sentence. Although they are required for the text to be cohesive and understandable, they do not neccessarily add any value to the meaning of the text, hence it is adivisble to remove them. Let us download the stopwords from the **NLTK** library.\n",
        "Also, we can create our own manual list with specific stopwords to remove them, in case the current ones are insufficient."
      ]
    },
    {
      "cell_type": "code",
      "execution_count": null,
      "metadata": {
        "colab": {
          "base_uri": "https://localhost:8080/"
        },
        "id": "hftUadrZIIEA",
        "outputId": "36e4bcd8-5e57-4d7b-cf73-2f896bb20dc0"
      },
      "outputs": [
        {
          "output_type": "execute_result",
          "data": {
            "text/plain": [
              "['i', 'me', 'my', 'myself', 'we']"
            ]
          },
          "metadata": {},
          "execution_count": 17
        }
      ],
      "source": [
        "# Stopwords list for english language based text\n",
        "Stopwords = stopwords.words(\"english\")\n",
        "Stopwords[:5] # Example of a few stopwords"
      ]
    },
    {
      "cell_type": "code",
      "execution_count": null,
      "metadata": {
        "id": "PAp8NiVHIanG"
      },
      "outputs": [],
      "source": [
        "def remove_stopwords(text):\n",
        "    new_text=[]\n",
        "\n",
        "    for word in text.split():\n",
        "        if word in Stopwords:\n",
        "            new_text.append(\" \")\n",
        "        else:\n",
        "            new_text.append(word.strip())\n",
        "\n",
        "\n",
        "    return \" \".join(new_text).replace(\"   \",\" \")"
      ]
    },
    {
      "cell_type": "markdown",
      "metadata": {
        "id": "QmMnsaa03NoO"
      },
      "source": [
        "## Emoji Handling\n",
        "There may be a few cases where our textual data would be having emoticons in it. A computer or simple machine may not be able to understand it and what emotion does is exactly represent in the text.\n",
        "Hence, we can remove the emojis or replace them with apporpirate representations using the **Emoji** library in python."
      ]
    },
    {
      "cell_type": "code",
      "execution_count": null,
      "metadata": {
        "id": "JSyfB3Kz25RT"
      },
      "outputs": [],
      "source": [
        "def remove_emoji(text):\n",
        "  clean_text = emoji.demojize(text)\n",
        "  return clean_text"
      ]
    },
    {
      "cell_type": "markdown",
      "metadata": {
        "id": "EIKuOG0w4_ON"
      },
      "source": [
        "So, the representation of the emoji above will be replaced by it's english name, which can be seen in the example below :"
      ]
    },
    {
      "cell_type": "code",
      "execution_count": null,
      "metadata": {
        "colab": {
          "base_uri": "https://localhost:8080/"
        },
        "id": "Rg-ZT2S54m_z",
        "outputId": "f5a98d44-6467-4141-abf9-23a687f4cfd2"
      },
      "outputs": [
        {
          "output_type": "execute_result",
          "data": {
            "text/plain": [
              "{'en': ':smiling_face_with_smiling_eyes:',\n",
              " 'status': 2,\n",
              " 'E': 0.6,\n",
              " 'alias': [':blush:'],\n",
              " 'de': ':lächelndes_gesicht_mit_lachenden_augen:',\n",
              " 'es': ':cara_feliz_con_ojos_sonrientes:',\n",
              " 'fr': ':visage_souriant_avec_yeux_rieurs:',\n",
              " 'ja': ':にこにこ:',\n",
              " 'ko': ':미소_짓는_눈으로_살짝_웃는_얼굴:',\n",
              " 'pt': ':rosto_sorridente_com_olhos_sorridentes:',\n",
              " 'it': ':faccina_con_occhi_sorridenti:',\n",
              " 'fa': ':لبخند_خجالتی:',\n",
              " 'id': ':wajah_tersenyum_dengan_mata_bahagia:',\n",
              " 'zh': ':羞涩微笑:',\n",
              " 'ru': ':довольно_улыбается:',\n",
              " 'tr': ':ağzı_açık_gülme:',\n",
              " 'ar': ':وجه_باسم_بعينين_باسمتين:'}"
            ]
          },
          "metadata": {},
          "execution_count": 20
        }
      ],
      "source": [
        "emoji.EMOJI_DATA['😊']"
      ]
    },
    {
      "cell_type": "markdown",
      "metadata": {
        "id": "KtPZE04m5s1_"
      },
      "source": [
        "## Final Pipeline\n",
        "With the above methods, we can now build a pipeline which can clean all our data and use it for processing further."
      ]
    },
    {
      "cell_type": "code",
      "execution_count": null,
      "metadata": {
        "id": "ehSqHIs34unW"
      },
      "outputs": [],
      "source": [
        "def cleaning_pipeline(text):\n",
        "  text = remove_html_tag(text)\n",
        "  text = remove_url(text)\n",
        "  text = remove_punc(text)\n",
        "  text = chat_conversion(text)\n",
        "  text = remove_stopwords(text)\n",
        "  text = remove_emoji(text)\n",
        "  return text\n",
        "\n",
        "data[\"review\"] = data[\"review\"].apply(cleaning_pipeline)"
      ]
    },
    {
      "cell_type": "markdown",
      "metadata": {
        "id": "mS-M0Q-Z7chd"
      },
      "source": [
        "Let us now view the data."
      ]
    },
    {
      "cell_type": "code",
      "execution_count": null,
      "metadata": {
        "colab": {
          "base_uri": "https://localhost:8080/",
          "height": 359
        },
        "id": "Yc674rBa6rap",
        "outputId": "a825872d-db23-45ea-cb88-79d5b7aea586"
      },
      "outputs": [
        {
          "output_type": "execute_result",
          "data": {
            "text/plain": [
              "                                              review sentiment\n",
              "0  one   reviewers mentioned   watching 1 oz epis...  positive\n",
              "1    wonderful little production filming techniqu...  positive\n",
              "2    thought   wonderful way spend time   hot sum...  positive\n",
              "3  basically   family   little boy jake thinks   ...  negative\n",
              "4  petter mattei love   time money   visually stu...  positive\n",
              "5  probably   time favorite movie story selflessn...  positive\n",
              "6    sure would like see resurrection   dated sea...  positive\n",
              "7    show   amazing fresh innovative idea   70   ...  negative\n",
              "8  encouraged   positive comments   film   lookin...  negative\n",
              "9    like original gut wrenching laughter   like ...  positive"
            ],
            "text/html": [
              "\n",
              "  <div id=\"df-d342c995-469d-45ef-b0c9-7da4c35ec117\" class=\"colab-df-container\">\n",
              "    <div>\n",
              "<style scoped>\n",
              "    .dataframe tbody tr th:only-of-type {\n",
              "        vertical-align: middle;\n",
              "    }\n",
              "\n",
              "    .dataframe tbody tr th {\n",
              "        vertical-align: top;\n",
              "    }\n",
              "\n",
              "    .dataframe thead th {\n",
              "        text-align: right;\n",
              "    }\n",
              "</style>\n",
              "<table border=\"1\" class=\"dataframe\">\n",
              "  <thead>\n",
              "    <tr style=\"text-align: right;\">\n",
              "      <th></th>\n",
              "      <th>review</th>\n",
              "      <th>sentiment</th>\n",
              "    </tr>\n",
              "  </thead>\n",
              "  <tbody>\n",
              "    <tr>\n",
              "      <th>0</th>\n",
              "      <td>one   reviewers mentioned   watching 1 oz epis...</td>\n",
              "      <td>positive</td>\n",
              "    </tr>\n",
              "    <tr>\n",
              "      <th>1</th>\n",
              "      <td>wonderful little production filming techniqu...</td>\n",
              "      <td>positive</td>\n",
              "    </tr>\n",
              "    <tr>\n",
              "      <th>2</th>\n",
              "      <td>thought   wonderful way spend time   hot sum...</td>\n",
              "      <td>positive</td>\n",
              "    </tr>\n",
              "    <tr>\n",
              "      <th>3</th>\n",
              "      <td>basically   family   little boy jake thinks   ...</td>\n",
              "      <td>negative</td>\n",
              "    </tr>\n",
              "    <tr>\n",
              "      <th>4</th>\n",
              "      <td>petter mattei love   time money   visually stu...</td>\n",
              "      <td>positive</td>\n",
              "    </tr>\n",
              "    <tr>\n",
              "      <th>5</th>\n",
              "      <td>probably   time favorite movie story selflessn...</td>\n",
              "      <td>positive</td>\n",
              "    </tr>\n",
              "    <tr>\n",
              "      <th>6</th>\n",
              "      <td>sure would like see resurrection   dated sea...</td>\n",
              "      <td>positive</td>\n",
              "    </tr>\n",
              "    <tr>\n",
              "      <th>7</th>\n",
              "      <td>show   amazing fresh innovative idea   70   ...</td>\n",
              "      <td>negative</td>\n",
              "    </tr>\n",
              "    <tr>\n",
              "      <th>8</th>\n",
              "      <td>encouraged   positive comments   film   lookin...</td>\n",
              "      <td>negative</td>\n",
              "    </tr>\n",
              "    <tr>\n",
              "      <th>9</th>\n",
              "      <td>like original gut wrenching laughter   like ...</td>\n",
              "      <td>positive</td>\n",
              "    </tr>\n",
              "  </tbody>\n",
              "</table>\n",
              "</div>\n",
              "    <div class=\"colab-df-buttons\">\n",
              "\n",
              "  <div class=\"colab-df-container\">\n",
              "    <button class=\"colab-df-convert\" onclick=\"convertToInteractive('df-d342c995-469d-45ef-b0c9-7da4c35ec117')\"\n",
              "            title=\"Convert this dataframe to an interactive table.\"\n",
              "            style=\"display:none;\">\n",
              "\n",
              "  <svg xmlns=\"http://www.w3.org/2000/svg\" height=\"24px\" viewBox=\"0 -960 960 960\">\n",
              "    <path d=\"M120-120v-720h720v720H120Zm60-500h600v-160H180v160Zm220 220h160v-160H400v160Zm0 220h160v-160H400v160ZM180-400h160v-160H180v160Zm440 0h160v-160H620v160ZM180-180h160v-160H180v160Zm440 0h160v-160H620v160Z\"/>\n",
              "  </svg>\n",
              "    </button>\n",
              "\n",
              "  <style>\n",
              "    .colab-df-container {\n",
              "      display:flex;\n",
              "      gap: 12px;\n",
              "    }\n",
              "\n",
              "    .colab-df-convert {\n",
              "      background-color: #E8F0FE;\n",
              "      border: none;\n",
              "      border-radius: 50%;\n",
              "      cursor: pointer;\n",
              "      display: none;\n",
              "      fill: #1967D2;\n",
              "      height: 32px;\n",
              "      padding: 0 0 0 0;\n",
              "      width: 32px;\n",
              "    }\n",
              "\n",
              "    .colab-df-convert:hover {\n",
              "      background-color: #E2EBFA;\n",
              "      box-shadow: 0px 1px 2px rgba(60, 64, 67, 0.3), 0px 1px 3px 1px rgba(60, 64, 67, 0.15);\n",
              "      fill: #174EA6;\n",
              "    }\n",
              "\n",
              "    .colab-df-buttons div {\n",
              "      margin-bottom: 4px;\n",
              "    }\n",
              "\n",
              "    [theme=dark] .colab-df-convert {\n",
              "      background-color: #3B4455;\n",
              "      fill: #D2E3FC;\n",
              "    }\n",
              "\n",
              "    [theme=dark] .colab-df-convert:hover {\n",
              "      background-color: #434B5C;\n",
              "      box-shadow: 0px 1px 3px 1px rgba(0, 0, 0, 0.15);\n",
              "      filter: drop-shadow(0px 1px 2px rgba(0, 0, 0, 0.3));\n",
              "      fill: #FFFFFF;\n",
              "    }\n",
              "  </style>\n",
              "\n",
              "    <script>\n",
              "      const buttonEl =\n",
              "        document.querySelector('#df-d342c995-469d-45ef-b0c9-7da4c35ec117 button.colab-df-convert');\n",
              "      buttonEl.style.display =\n",
              "        google.colab.kernel.accessAllowed ? 'block' : 'none';\n",
              "\n",
              "      async function convertToInteractive(key) {\n",
              "        const element = document.querySelector('#df-d342c995-469d-45ef-b0c9-7da4c35ec117');\n",
              "        const dataTable =\n",
              "          await google.colab.kernel.invokeFunction('convertToInteractive',\n",
              "                                                    [key], {});\n",
              "        if (!dataTable) return;\n",
              "\n",
              "        const docLinkHtml = 'Like what you see? Visit the ' +\n",
              "          '<a target=\"_blank\" href=https://colab.research.google.com/notebooks/data_table.ipynb>data table notebook</a>'\n",
              "          + ' to learn more about interactive tables.';\n",
              "        element.innerHTML = '';\n",
              "        dataTable['output_type'] = 'display_data';\n",
              "        await google.colab.output.renderOutput(dataTable, element);\n",
              "        const docLink = document.createElement('div');\n",
              "        docLink.innerHTML = docLinkHtml;\n",
              "        element.appendChild(docLink);\n",
              "      }\n",
              "    </script>\n",
              "  </div>\n",
              "\n",
              "\n",
              "<div id=\"df-9cdc8915-6299-427a-b505-13151dfc91cc\">\n",
              "  <button class=\"colab-df-quickchart\" onclick=\"quickchart('df-9cdc8915-6299-427a-b505-13151dfc91cc')\"\n",
              "            title=\"Suggest charts\"\n",
              "            style=\"display:none;\">\n",
              "\n",
              "<svg xmlns=\"http://www.w3.org/2000/svg\" height=\"24px\"viewBox=\"0 0 24 24\"\n",
              "     width=\"24px\">\n",
              "    <g>\n",
              "        <path d=\"M19 3H5c-1.1 0-2 .9-2 2v14c0 1.1.9 2 2 2h14c1.1 0 2-.9 2-2V5c0-1.1-.9-2-2-2zM9 17H7v-7h2v7zm4 0h-2V7h2v10zm4 0h-2v-4h2v4z\"/>\n",
              "    </g>\n",
              "</svg>\n",
              "  </button>\n",
              "\n",
              "<style>\n",
              "  .colab-df-quickchart {\n",
              "      --bg-color: #E8F0FE;\n",
              "      --fill-color: #1967D2;\n",
              "      --hover-bg-color: #E2EBFA;\n",
              "      --hover-fill-color: #174EA6;\n",
              "      --disabled-fill-color: #AAA;\n",
              "      --disabled-bg-color: #DDD;\n",
              "  }\n",
              "\n",
              "  [theme=dark] .colab-df-quickchart {\n",
              "      --bg-color: #3B4455;\n",
              "      --fill-color: #D2E3FC;\n",
              "      --hover-bg-color: #434B5C;\n",
              "      --hover-fill-color: #FFFFFF;\n",
              "      --disabled-bg-color: #3B4455;\n",
              "      --disabled-fill-color: #666;\n",
              "  }\n",
              "\n",
              "  .colab-df-quickchart {\n",
              "    background-color: var(--bg-color);\n",
              "    border: none;\n",
              "    border-radius: 50%;\n",
              "    cursor: pointer;\n",
              "    display: none;\n",
              "    fill: var(--fill-color);\n",
              "    height: 32px;\n",
              "    padding: 0;\n",
              "    width: 32px;\n",
              "  }\n",
              "\n",
              "  .colab-df-quickchart:hover {\n",
              "    background-color: var(--hover-bg-color);\n",
              "    box-shadow: 0 1px 2px rgba(60, 64, 67, 0.3), 0 1px 3px 1px rgba(60, 64, 67, 0.15);\n",
              "    fill: var(--button-hover-fill-color);\n",
              "  }\n",
              "\n",
              "  .colab-df-quickchart-complete:disabled,\n",
              "  .colab-df-quickchart-complete:disabled:hover {\n",
              "    background-color: var(--disabled-bg-color);\n",
              "    fill: var(--disabled-fill-color);\n",
              "    box-shadow: none;\n",
              "  }\n",
              "\n",
              "  .colab-df-spinner {\n",
              "    border: 2px solid var(--fill-color);\n",
              "    border-color: transparent;\n",
              "    border-bottom-color: var(--fill-color);\n",
              "    animation:\n",
              "      spin 1s steps(1) infinite;\n",
              "  }\n",
              "\n",
              "  @keyframes spin {\n",
              "    0% {\n",
              "      border-color: transparent;\n",
              "      border-bottom-color: var(--fill-color);\n",
              "      border-left-color: var(--fill-color);\n",
              "    }\n",
              "    20% {\n",
              "      border-color: transparent;\n",
              "      border-left-color: var(--fill-color);\n",
              "      border-top-color: var(--fill-color);\n",
              "    }\n",
              "    30% {\n",
              "      border-color: transparent;\n",
              "      border-left-color: var(--fill-color);\n",
              "      border-top-color: var(--fill-color);\n",
              "      border-right-color: var(--fill-color);\n",
              "    }\n",
              "    40% {\n",
              "      border-color: transparent;\n",
              "      border-right-color: var(--fill-color);\n",
              "      border-top-color: var(--fill-color);\n",
              "    }\n",
              "    60% {\n",
              "      border-color: transparent;\n",
              "      border-right-color: var(--fill-color);\n",
              "    }\n",
              "    80% {\n",
              "      border-color: transparent;\n",
              "      border-right-color: var(--fill-color);\n",
              "      border-bottom-color: var(--fill-color);\n",
              "    }\n",
              "    90% {\n",
              "      border-color: transparent;\n",
              "      border-bottom-color: var(--fill-color);\n",
              "    }\n",
              "  }\n",
              "</style>\n",
              "\n",
              "  <script>\n",
              "    async function quickchart(key) {\n",
              "      const quickchartButtonEl =\n",
              "        document.querySelector('#' + key + ' button');\n",
              "      quickchartButtonEl.disabled = true;  // To prevent multiple clicks.\n",
              "      quickchartButtonEl.classList.add('colab-df-spinner');\n",
              "      try {\n",
              "        const charts = await google.colab.kernel.invokeFunction(\n",
              "            'suggestCharts', [key], {});\n",
              "      } catch (error) {\n",
              "        console.error('Error during call to suggestCharts:', error);\n",
              "      }\n",
              "      quickchartButtonEl.classList.remove('colab-df-spinner');\n",
              "      quickchartButtonEl.classList.add('colab-df-quickchart-complete');\n",
              "    }\n",
              "    (() => {\n",
              "      let quickchartButtonEl =\n",
              "        document.querySelector('#df-9cdc8915-6299-427a-b505-13151dfc91cc button');\n",
              "      quickchartButtonEl.style.display =\n",
              "        google.colab.kernel.accessAllowed ? 'block' : 'none';\n",
              "    })();\n",
              "  </script>\n",
              "</div>\n",
              "\n",
              "    </div>\n",
              "  </div>\n"
            ],
            "application/vnd.google.colaboratory.intrinsic+json": {
              "type": "dataframe",
              "variable_name": "data",
              "summary": "{\n  \"name\": \"data\",\n  \"rows\": 50000,\n  \"fields\": [\n    {\n      \"column\": \"review\",\n      \"properties\": {\n        \"dtype\": \"string\",\n        \"num_unique_values\": 49574,\n        \"samples\": [\n          \"  moving intriguing absorbing however story   little choppy hard follow times although two principal actors   great job seeing senn penn acting every fiber   stealing every frame made   memorable movie later movies revealed     one role actor also showed comedic flair sweet lowdown surprisingly talented   light weight used think  \",\n          \"  seems   becoming fashionable rip basic instinct 2   point   significant part   audience including critics found terrible even   released seems even fashionable trash sharon stone who\\u0097like   us\\u0097is fourteen years older and\\u0097unlike   us\\u0097still looks wonderful first comments   movie   vicious   see   opinion sequel   nearly good   original film   bad   comments pretend michael caton jones   paul verhoeven neither henry bean leora barish joe eszterhas basic instinct 2   entertaining average thriller besides addition jerry goldsmith original score keeps little resemblance   predecessor even stone gives character different dimension creating lustful devilish catherine trimell   perfectly well rank among monsters like hannibal lecter   intelligent actress   afraid taking risks   play camp   leisure unfortunately seems   main target   enjoy trashing flick became successful much   main icon like   actors   reached level time arrived   bound   destroyed hollywood audiences rest   cast outstanding giving performances   far better   material deserves david morrissey   much better actor   far interesting michael douglas acting flawless giving dense complex dimension   otherwise one dimensional character since   screen time   axis   movie   keep attention beginning end   recommending basic instinct 2   great movie   expressing disagreement   comments   site   conviction agendas   movie   shaping opinion   spectators\",\n          \"dear reader watch   movie   really movie though creators   impertinence call     warned   content   goes film simply sequence imagines flow continually   trying transmit certain feeling concept could called therefore symbols images accompanied   soundtrack   purpose   create atmosphere well however images director chosen   transmit feelings   american audience     overwhelming number american icons though film intended express idea civilized warfare fails       general chaos also   far long tiresome   strongly felt   lot   scenes     war whichever conception conclude   greatly disappointed   documentary   documentary movie   movie something whose strong point   extraordinary use technology image processing\"\n        ],\n        \"semantic_type\": \"\",\n        \"description\": \"\"\n      }\n    },\n    {\n      \"column\": \"sentiment\",\n      \"properties\": {\n        \"dtype\": \"category\",\n        \"num_unique_values\": 2,\n        \"samples\": [\n          \"negative\",\n          \"positive\"\n        ],\n        \"semantic_type\": \"\",\n        \"description\": \"\"\n      }\n    }\n  ]\n}"
            }
          },
          "metadata": {},
          "execution_count": 22
        }
      ],
      "source": [
        "data.head(10)"
      ]
    },
    {
      "cell_type": "markdown",
      "metadata": {
        "id": "6sliq0Eu77YW"
      },
      "source": [
        "# Tokenization\n",
        "To train on text data, one very important concept is of **tokens**. They can be understood as a basic unit of data which is given as input and received as output. In textual data, a token represents words, subwords or characters. For now, we will perform the conversion of text to tokens via the **nltk** library"
      ]
    },
    {
      "cell_type": "code",
      "execution_count": null,
      "metadata": {
        "colab": {
          "base_uri": "https://localhost:8080/"
        },
        "id": "8jywSkqX7wJQ",
        "outputId": "a95760b9-0a2d-43c0-975d-4312e4244538"
      },
      "outputs": [
        {
          "output_type": "stream",
          "name": "stderr",
          "text": [
            "[nltk_data] Downloading package punkt to /root/nltk_data...\n",
            "[nltk_data]   Package punkt is already up-to-date!\n"
          ]
        },
        {
          "output_type": "execute_result",
          "data": {
            "text/plain": [
              "True"
            ]
          },
          "metadata": {},
          "execution_count": 23
        }
      ],
      "source": [
        "from nltk.tokenize import word_tokenize,sent_tokenize\n",
        "nltk.download(\"punkt\")"
      ]
    },
    {
      "cell_type": "markdown",
      "metadata": {
        "id": "R6nxtU1y_idP"
      },
      "source": [
        "Now say if we have a text with multiple sentences, we can convert it into **Sentence Tokens** which basically convert texts into tokens where each token represents a sentence or a chunk of the overall text. Let us see the example below :"
      ]
    },
    {
      "cell_type": "code",
      "execution_count": null,
      "metadata": {
        "id": "YY1Z1ifO--Xc"
      },
      "outputs": [],
      "source": [
        "my_text = \"\"\"Training and inference are two distinct phases in the lifecycle of a machine learning model.\n",
        "\n",
        "During training, the model learns from the input data and adjusts its parameters to minimize the difference between its predictions and the actual target values. This process involves backpropagation, optimization algorithms, and iterative updates to the model's parameters.\n",
        "\n",
        "Inference is the phase where the trained model is used to make predictions on new, unseen data. During inference, the model takes input data and generates output predictions based on the learned patterns and relationships in the training data. Inference is typically faster and less computationally intensive than training, as the model's parameters are fixed and do not need to be updated.\"\"\""
      ]
    },
    {
      "cell_type": "code",
      "execution_count": null,
      "metadata": {
        "colab": {
          "base_uri": "https://localhost:8080/"
        },
        "id": "hn9ftvyQAJ7h",
        "outputId": "bd72cde6-8dcb-48e1-af20-32bd9d0935b8"
      },
      "outputs": [
        {
          "output_type": "execute_result",
          "data": {
            "text/plain": [
              "['Training and inference are two distinct phases in the lifecycle of a machine learning model.',\n",
              " 'During training, the model learns from the input data and adjusts its parameters to minimize the difference between its predictions and the actual target values.',\n",
              " \"This process involves backpropagation, optimization algorithms, and iterative updates to the model's parameters.\",\n",
              " 'Inference is the phase where the trained model is used to make predictions on new, unseen data.',\n",
              " 'During inference, the model takes input data and generates output predictions based on the learned patterns and relationships in the training data.',\n",
              " \"Inference is typically faster and less computationally intensive than training, as the model's parameters are fixed and do not need to be updated.\"]"
            ]
          },
          "metadata": {},
          "execution_count": 25
        }
      ],
      "source": [
        "sent_tokenize(my_text)"
      ]
    },
    {
      "cell_type": "markdown",
      "metadata": {
        "id": "38S3ZlozAemE"
      },
      "source": [
        "Now, we can also create **Word Tokens** for the above, as shown below :"
      ]
    },
    {
      "cell_type": "code",
      "execution_count": null,
      "metadata": {
        "colab": {
          "base_uri": "https://localhost:8080/"
        },
        "id": "AAo1j29IAM9N",
        "outputId": "290cabdb-c20b-44f1-e1bb-7b06e0469d24"
      },
      "outputs": [
        {
          "output_type": "execute_result",
          "data": {
            "text/plain": [
              "['Training',\n",
              " 'and',\n",
              " 'inference',\n",
              " 'are',\n",
              " 'two',\n",
              " 'distinct',\n",
              " 'phases',\n",
              " 'in',\n",
              " 'the',\n",
              " 'lifecycle',\n",
              " 'of',\n",
              " 'a',\n",
              " 'machine',\n",
              " 'learning',\n",
              " 'model',\n",
              " '.',\n",
              " 'During',\n",
              " 'training',\n",
              " ',',\n",
              " 'the',\n",
              " 'model',\n",
              " 'learns',\n",
              " 'from',\n",
              " 'the',\n",
              " 'input',\n",
              " 'data',\n",
              " 'and',\n",
              " 'adjusts',\n",
              " 'its',\n",
              " 'parameters',\n",
              " 'to',\n",
              " 'minimize',\n",
              " 'the',\n",
              " 'difference',\n",
              " 'between',\n",
              " 'its',\n",
              " 'predictions',\n",
              " 'and',\n",
              " 'the',\n",
              " 'actual',\n",
              " 'target',\n",
              " 'values',\n",
              " '.',\n",
              " 'This',\n",
              " 'process',\n",
              " 'involves',\n",
              " 'backpropagation',\n",
              " ',',\n",
              " 'optimization',\n",
              " 'algorithms',\n",
              " ',',\n",
              " 'and',\n",
              " 'iterative',\n",
              " 'updates',\n",
              " 'to',\n",
              " 'the',\n",
              " 'model',\n",
              " \"'s\",\n",
              " 'parameters',\n",
              " '.',\n",
              " 'Inference',\n",
              " 'is',\n",
              " 'the',\n",
              " 'phase',\n",
              " 'where',\n",
              " 'the',\n",
              " 'trained',\n",
              " 'model',\n",
              " 'is',\n",
              " 'used',\n",
              " 'to',\n",
              " 'make',\n",
              " 'predictions',\n",
              " 'on',\n",
              " 'new',\n",
              " ',',\n",
              " 'unseen',\n",
              " 'data',\n",
              " '.',\n",
              " 'During',\n",
              " 'inference',\n",
              " ',',\n",
              " 'the',\n",
              " 'model',\n",
              " 'takes',\n",
              " 'input',\n",
              " 'data',\n",
              " 'and',\n",
              " 'generates',\n",
              " 'output',\n",
              " 'predictions',\n",
              " 'based',\n",
              " 'on',\n",
              " 'the',\n",
              " 'learned',\n",
              " 'patterns',\n",
              " 'and',\n",
              " 'relationships',\n",
              " 'in',\n",
              " 'the',\n",
              " 'training',\n",
              " 'data',\n",
              " '.',\n",
              " 'Inference',\n",
              " 'is',\n",
              " 'typically',\n",
              " 'faster',\n",
              " 'and',\n",
              " 'less',\n",
              " 'computationally',\n",
              " 'intensive',\n",
              " 'than',\n",
              " 'training',\n",
              " ',',\n",
              " 'as',\n",
              " 'the',\n",
              " 'model',\n",
              " \"'s\",\n",
              " 'parameters',\n",
              " 'are',\n",
              " 'fixed',\n",
              " 'and',\n",
              " 'do',\n",
              " 'not',\n",
              " 'need',\n",
              " 'to',\n",
              " 'be',\n",
              " 'updated',\n",
              " '.']"
            ]
          },
          "metadata": {},
          "execution_count": 26
        }
      ],
      "source": [
        "word_tokenize(my_text)"
      ]
    },
    {
      "cell_type": "markdown",
      "metadata": {
        "id": "CwNXaxXRAsyk"
      },
      "source": [
        "Although the word tokens do have have some stopwords and uneccessary words, the function divides the text into a collection of words successfully.\n",
        "\n",
        "Now, using the above we can tokenize any given corpus/document into a collection of sentences. These sentences will be needed for further processes such as **encoding** about which we will learn below.\n",
        "\n",
        "We will be using this technique ahead coupled with one of the following approaches as explained below to pre-process our data."
      ]
    },
    {
      "cell_type": "markdown",
      "metadata": {
        "id": "-x93X6JluoZ8"
      },
      "source": [
        "# Stemming\n",
        "Stemming is the process of reducing inflected (or sometimes derived) words to their word stem, base or root form— generally a written word form. In all languages, many words originate from the same root word, which implies the same meaning, just in a different contextual use. Basically, it converts the words to their roots by the process of trimming and hence, is a relatively faster process.\n",
        "\n",
        "\n",
        "For example, \"fishing\", \"fished\", \"fisher\" all have the same root word, \"fish\" and all of them are related to the root word only.\n",
        "\n",
        "\n",
        "Stemming can be used in sentiment analysis, spam filtering, text classification, etc i.e. where it is important to understand the sentiment of the words."
      ]
    },
    {
      "cell_type": "code",
      "execution_count": null,
      "metadata": {
        "id": "l1QVgFmXRJwv"
      },
      "outputs": [],
      "source": [
        "paragraph = \"\"\"I have three visions for India. In 3000 years of our history, people from all over\n",
        "                the world have come and invaded us, captured our lands, conquered our minds.\n",
        "                From Alexander onwards, the Greeks, the Turks, the Moguls, the Portuguese, the British, the French, the Dutch, all of them came and looted us, took over what was ours.\n",
        "                Yet we have not done this to any other nation. We have not conquered anyone. ear history abd tried to enforce our way of life on them.\n",
        "                Why? Because we respect the freedom of others. That is why my first vision is that of freedom. I believe that India got its first vision of this in 1857, when we started the War of Independence. It is this freedom that\n",
        "                My second otston for Lndure s developrent: For fLy years e have ben a developting nation.\n",
        "                It is time we see ourselves as a developed nation. We are among the top 5 nations of the world in terms of GDP. We have a 10 percent growth rate in most areas. Our poverty levels are falling.\n",
        "                Our achievements are being globally recognised today. Yet we lack the self-confidence to\n",
        "                I nave s thand vision, ndsa nust tand up to Ene wod e, fecause etreve that untes Ehdsa\n",
        "                Strong not onty as a ns tary power but atto as an coronde porer: Both tret go hand-un-hand.\n",
        "                My good fortune was to have worked with three great minds.\n",
        "                Dr. Vikram Sarabhai of the Dept. of space, Professor Satish Dhawan, who succeeded him and Dr. Brahm Prakash,\n",
        "                father of nuclear materi I was lucky to have worked with all three of them closely and consider this the great opportunity\n",
        "                I see four milestones in my career\"\"\"\n",
        "\n",
        "# Tokenizing sentences\n",
        "sentences = nltk.sent_tokenize(paragraph)\n",
        "stemmer = PorterStemmer()\n",
        "\n",
        "\n",
        "# Now, the above sentences are tokenized into words. We will now remove the stopwords and then apply stemming.\n",
        "for i in range(sentences.__len__()):\n",
        "    words = nltk.word_tokenize(sentences[i])\n",
        "    words = [stemmer.stem(word) for word in words if word not in set(stopwords.words('english'))] # Basically, this will only keep those words which are not present in the stopwords corpus\n",
        "    sentences[i] = ' '.join(words) # Joining the words to form a sentence"
      ]
    },
    {
      "cell_type": "code",
      "execution_count": null,
      "metadata": {
        "colab": {
          "base_uri": "https://localhost:8080/"
        },
        "id": "dkyOBTULSrYH",
        "outputId": "e7b7813a-048b-417e-eebe-96ca5f690eec"
      },
      "outputs": [
        {
          "output_type": "execute_result",
          "data": {
            "text/plain": [
              "['i three vision india .',\n",
              " 'in 3000 year histori , peopl world come invad us , captur land , conquer mind .',\n",
              " 'from alexand onward , greek , turk , mogul , portugues , british , french , dutch , came loot us , took .',\n",
              " 'yet done nation .',\n",
              " 'we conquer anyon .',\n",
              " 'ear histori abd tri enforc way life .',\n",
              " 'whi ?',\n",
              " 'becaus respect freedom other .',\n",
              " 'that first vision freedom .',\n",
              " 'i believ india got first vision 1857 , start war independ .',\n",
              " 'it freedom my second otston lndure developr : for fli year e ben developt nation .',\n",
              " 'it time see develop nation .',\n",
              " 'we among top 5 nation world term gdp .',\n",
              " 'we 10 percent growth rate area .',\n",
              " 'our poverti level fall .',\n",
              " 'our achiev global recognis today .',\n",
              " 'yet lack self-confid i nave thand vision , ndsa nust tand ene wod e , fecaus etrev unt ehdsa strong onti ns tari power atto corond porer : both tret go hand-un-hand .',\n",
              " 'my good fortun work three great mind .',\n",
              " 'dr. vikram sarabhai dept .',\n",
              " 'space , professor satish dhawan , succeed dr. brahm prakash , father nuclear materi i lucki work three close consid great opportun i see four mileston career']"
            ]
          },
          "metadata": {},
          "execution_count": 28
        }
      ],
      "source": [
        "sentences"
      ]
    },
    {
      "cell_type": "markdown",
      "metadata": {
        "id": "_Dn9VFAKTATt"
      },
      "source": [
        "We can see above the original paragraph is now divided into sentences, where each word is now trimmed to their base word to further smoothen the process of understanding the context of the words.\n",
        "\n",
        "However, here lies a small problem. The problem with stemming is that it may not return the ideal root word, as it only tries to trim it down to it's root word. It does not take referece from any dictionary and only trims it based on the data it gets.\n",
        "\n",
        "For example, we know that the root word for \"better\" is \"good\", as they both imply the same thing. However, the stemming process may convert it into \"bet\" as it only trims it down.\n",
        "\n",
        "It may even produce intermidiate root words which do not neccessarily mean anything, such as \"intellig\" for \"intelligent\".\n"
      ]
    },
    {
      "cell_type": "markdown",
      "metadata": {
        "id": "Ss3XfUv_uqIq"
      },
      "source": [
        "# Lemmatization\n",
        "Lemmatization is the process of grouping together the inflected forms of a word so they can be analysed as a single item, such as the word \"better\" which is the comparative form of \"good\". This basically tries to convert a word into it's meaningful base word which is known as **lemma**.\n",
        "\n",
        "For example, it is able to convert the words \"better\", \"great\", \"greatest\" into \"good\", and hence provides a more accurate representaion of the words to their roots.\n",
        "\n",
        "Lemmatization can be used in chatbots, question-answering systems, etc i.e. where it is important to understand the meaning of the words."
      ]
    },
    {
      "cell_type": "code",
      "execution_count": null,
      "metadata": {
        "id": "GHeKRMzNUE-g"
      },
      "outputs": [],
      "source": [
        "paragraph = \"\"\"I have three visions for India. In 3000 years of our history, people from all over\n",
        "                the world have come and invaded us, captured our lands, conquered our minds.\n",
        "                From Alexander onwards, the Greeks, the Turks, the Moguls, the Portuguese, the British, the French, the Dutch, all of them came and looted us, took over what was ours.\n",
        "                Yet we have not done this to any other nation. We have not conquered anyone. ear history abd tried to enforce our way of life on them.\n",
        "                Why? Because we respect the freedom of others. That is why my first vision is that of freedom. I believe that India got its first vision of this in 1857, when we started the War of Independence. It is this freedom that\n",
        "                My second otston for Lndure s developrent: For fLy years e have ben a developting nation.\n",
        "                It is time we see ourselves as a developed nation. We are among the top 5 nations of the world in terms of GDP. We have a 10 percent growth rate in most areas. Our poverty levels are falling.\n",
        "                Our achievements are being globally recognised today. Yet we lack the self-confidence to\n",
        "                I nave s thand vision, ndsa nust tand up to Ene wod e, fecause etreve that untes Ehdsa\n",
        "                Strong not onty as a ns tary power but atto as an coronde porer: Both tret go hand-un-hand.\n",
        "                My good fortune was to have worked with three great minds.\n",
        "                Dr. Vikram Sarabhai of the Dept. of space, Professor Satish Dhawan, who succeeded him and Dr. Brahm Prakash,\n",
        "                father of nuclear materi I was lucky to have worked with all three of them closely and consider this the great opportunity\n",
        "                I see four milestones in my career\"\"\"\n",
        "\n",
        "# Tokenizing sentences\n",
        "sentences = nltk.sent_tokenize(paragraph)\n",
        "lemitizer = WordNetLemmatizer()\n",
        "\n",
        "# Now, the above sentences are tokenized into words. We will now remove the stopwords and then apply lemmatization.\n",
        "for i in range(sentences.__len__()):\n",
        "    words = nltk.word_tokenize(sentences[i])\n",
        "    words = [lemitizer.lemmatize(word) for word in words if word not in set(stopwords.words('english'))] # Basically, this will only keep those words which are not present in the stopwords corpus\n",
        "    sentences[i] = ' '.join(words) # Joining the words to form a sentence"
      ]
    },
    {
      "cell_type": "code",
      "execution_count": null,
      "metadata": {
        "colab": {
          "base_uri": "https://localhost:8080/"
        },
        "id": "_tFhJ73VXgFs",
        "outputId": "1a7b39ad-797b-4985-aa99-e5ec28924c18"
      },
      "outputs": [
        {
          "output_type": "execute_result",
          "data": {
            "text/plain": [
              "['I three vision India .',\n",
              " 'In 3000 year history , people world come invaded u , captured land , conquered mind .',\n",
              " 'From Alexander onwards , Greeks , Turks , Moguls , Portuguese , British , French , Dutch , came looted u , took .',\n",
              " 'Yet done nation .',\n",
              " 'We conquered anyone .',\n",
              " 'ear history abd tried enforce way life .',\n",
              " 'Why ?',\n",
              " 'Because respect freedom others .',\n",
              " 'That first vision freedom .',\n",
              " 'I believe India got first vision 1857 , started War Independence .',\n",
              " 'It freedom My second otston Lndure developrent : For fLy year e ben developting nation .',\n",
              " 'It time see developed nation .',\n",
              " 'We among top 5 nation world term GDP .',\n",
              " 'We 10 percent growth rate area .',\n",
              " 'Our poverty level falling .',\n",
              " 'Our achievement globally recognised today .',\n",
              " 'Yet lack self-confidence I nave thand vision , ndsa nust tand Ene wod e , fecause etreve untes Ehdsa Strong onty n tary power atto coronde porer : Both tret go hand-un-hand .',\n",
              " 'My good fortune worked three great mind .',\n",
              " 'Dr. Vikram Sarabhai Dept .',\n",
              " 'space , Professor Satish Dhawan , succeeded Dr. Brahm Prakash , father nuclear materi I lucky worked three closely consider great opportunity I see four milestone career']"
            ]
          },
          "metadata": {},
          "execution_count": 30
        }
      ],
      "source": [
        "sentences"
      ]
    },
    {
      "cell_type": "markdown",
      "metadata": {
        "id": "9Dg-f732XjrN"
      },
      "source": [
        "As we can see above, the sentences are now brought to the accurate representations of their base/root words.\n",
        "\n",
        "The problem with lemmatization is that it is slower than stemming as it tries to find the root word from the dictionary. This may not be possible for all words, and also it has a higher time complexity as compared to stemming."
      ]
    },
    {
      "cell_type": "markdown",
      "metadata": {
        "id": "XsbQ3VLKJTVC"
      },
      "source": [
        "# Stemming V/s Lemmatization - Project Approach\n",
        "For our project, let us view the comparitive view of both these approaches :\n",
        "\n",
        "#### **Stemming**\n",
        "\n",
        "**Pros**\n",
        "* Faster and more computationally efficient, especially for large datasets such as ours (50,000 reviews).\n",
        "* Can be effective at capturing synonyms and reducing vocabulary size.\n",
        "\n",
        "\n",
        "**Cons**\n",
        "* May create nonsensical words (e.g., \"better\" becomes \"bet\").\n",
        "* Might not always capture the correct morphological form (e.g., \"running\" becomes \"run\" which loses the present participle meaning)\n",
        "\n",
        "---\n",
        "#### **Lemmatization**\n",
        "\n",
        "**Pros**\n",
        "* More accurate than stemming, as it considers the context and dictionary to identify the correct base form (lemma) of a word.\n",
        "* Preserves the grammatical meaning of words (e.g., \"running\" remains \"running\" and \"better\" becomes \"good\").\n",
        "\n",
        "**Cons**\n",
        "* Slower and computationally more expensive compared to stemming.\n",
        "* Might require additional resources like a comprehensive dictionary."
      ]
    },
    {
      "cell_type": "markdown",
      "metadata": {
        "id": "l0pr2Y43Ky80"
      },
      "source": [
        "For sentiment analysis, where capturing the emotional tone is crucial, some minor loss of accuracy from stemming might be acceptable if it translates to significant efficiency gains, especially with a large dataset. Apart from thatm the factors we should consider are :\n",
        "\n",
        "* **Dataset size**: With 50,000 reviews, stemming's speed advantage becomes more appealing.\n",
        "* **Task sensitivity**: If subtle nuances in word meaning are critical, lemmatization might be preferable. However, for sentiment analysis, the core emotional meaning is often preserved even with stemming.\n",
        "\n",
        "Hence, we would be choosing stemming to process the data."
      ]
    },
    {
      "cell_type": "code",
      "execution_count": null,
      "metadata": {
        "id": "ui3zy3XvK-gu"
      },
      "outputs": [],
      "source": [
        "def stemming_pipeline(review):\n",
        "  words = nltk.word_tokenize(review)\n",
        "  words = [stemmer.stem(word) for word in words if word]\n",
        "  sentence = ' '.join(words)\n",
        "  return sentence\n"
      ]
    },
    {
      "cell_type": "code",
      "execution_count": null,
      "metadata": {
        "id": "u0qxjaw8K0w7"
      },
      "outputs": [],
      "source": [
        "data[\"review\"] = data[\"review\"].apply(stemming_pipeline)"
      ]
    },
    {
      "cell_type": "code",
      "execution_count": null,
      "metadata": {
        "colab": {
          "base_uri": "https://localhost:8080/",
          "height": 204
        },
        "id": "6jeceK1nPBIN",
        "outputId": "61d8ef28-467c-4d72-a513-869be02e5cb0"
      },
      "outputs": [
        {
          "output_type": "execute_result",
          "data": {
            "text/plain": [
              "                                              review sentiment\n",
              "0  one review mention watch 1 oz episod hook righ...  positive\n",
              "1  wonder littl product film techniqu unassum old...  positive\n",
              "2  thought wonder way spend time hot summer weeke...  positive\n",
              "3  basic famili littl boy jake think zombi closet...  negative\n",
              "4  petter mattei love time money visual stun film...  positive"
            ],
            "text/html": [
              "\n",
              "  <div id=\"df-088b9a41-d70d-4f07-bf28-3a75e9b95016\" class=\"colab-df-container\">\n",
              "    <div>\n",
              "<style scoped>\n",
              "    .dataframe tbody tr th:only-of-type {\n",
              "        vertical-align: middle;\n",
              "    }\n",
              "\n",
              "    .dataframe tbody tr th {\n",
              "        vertical-align: top;\n",
              "    }\n",
              "\n",
              "    .dataframe thead th {\n",
              "        text-align: right;\n",
              "    }\n",
              "</style>\n",
              "<table border=\"1\" class=\"dataframe\">\n",
              "  <thead>\n",
              "    <tr style=\"text-align: right;\">\n",
              "      <th></th>\n",
              "      <th>review</th>\n",
              "      <th>sentiment</th>\n",
              "    </tr>\n",
              "  </thead>\n",
              "  <tbody>\n",
              "    <tr>\n",
              "      <th>0</th>\n",
              "      <td>one review mention watch 1 oz episod hook righ...</td>\n",
              "      <td>positive</td>\n",
              "    </tr>\n",
              "    <tr>\n",
              "      <th>1</th>\n",
              "      <td>wonder littl product film techniqu unassum old...</td>\n",
              "      <td>positive</td>\n",
              "    </tr>\n",
              "    <tr>\n",
              "      <th>2</th>\n",
              "      <td>thought wonder way spend time hot summer weeke...</td>\n",
              "      <td>positive</td>\n",
              "    </tr>\n",
              "    <tr>\n",
              "      <th>3</th>\n",
              "      <td>basic famili littl boy jake think zombi closet...</td>\n",
              "      <td>negative</td>\n",
              "    </tr>\n",
              "    <tr>\n",
              "      <th>4</th>\n",
              "      <td>petter mattei love time money visual stun film...</td>\n",
              "      <td>positive</td>\n",
              "    </tr>\n",
              "  </tbody>\n",
              "</table>\n",
              "</div>\n",
              "    <div class=\"colab-df-buttons\">\n",
              "\n",
              "  <div class=\"colab-df-container\">\n",
              "    <button class=\"colab-df-convert\" onclick=\"convertToInteractive('df-088b9a41-d70d-4f07-bf28-3a75e9b95016')\"\n",
              "            title=\"Convert this dataframe to an interactive table.\"\n",
              "            style=\"display:none;\">\n",
              "\n",
              "  <svg xmlns=\"http://www.w3.org/2000/svg\" height=\"24px\" viewBox=\"0 -960 960 960\">\n",
              "    <path d=\"M120-120v-720h720v720H120Zm60-500h600v-160H180v160Zm220 220h160v-160H400v160Zm0 220h160v-160H400v160ZM180-400h160v-160H180v160Zm440 0h160v-160H620v160ZM180-180h160v-160H180v160Zm440 0h160v-160H620v160Z\"/>\n",
              "  </svg>\n",
              "    </button>\n",
              "\n",
              "  <style>\n",
              "    .colab-df-container {\n",
              "      display:flex;\n",
              "      gap: 12px;\n",
              "    }\n",
              "\n",
              "    .colab-df-convert {\n",
              "      background-color: #E8F0FE;\n",
              "      border: none;\n",
              "      border-radius: 50%;\n",
              "      cursor: pointer;\n",
              "      display: none;\n",
              "      fill: #1967D2;\n",
              "      height: 32px;\n",
              "      padding: 0 0 0 0;\n",
              "      width: 32px;\n",
              "    }\n",
              "\n",
              "    .colab-df-convert:hover {\n",
              "      background-color: #E2EBFA;\n",
              "      box-shadow: 0px 1px 2px rgba(60, 64, 67, 0.3), 0px 1px 3px 1px rgba(60, 64, 67, 0.15);\n",
              "      fill: #174EA6;\n",
              "    }\n",
              "\n",
              "    .colab-df-buttons div {\n",
              "      margin-bottom: 4px;\n",
              "    }\n",
              "\n",
              "    [theme=dark] .colab-df-convert {\n",
              "      background-color: #3B4455;\n",
              "      fill: #D2E3FC;\n",
              "    }\n",
              "\n",
              "    [theme=dark] .colab-df-convert:hover {\n",
              "      background-color: #434B5C;\n",
              "      box-shadow: 0px 1px 3px 1px rgba(0, 0, 0, 0.15);\n",
              "      filter: drop-shadow(0px 1px 2px rgba(0, 0, 0, 0.3));\n",
              "      fill: #FFFFFF;\n",
              "    }\n",
              "  </style>\n",
              "\n",
              "    <script>\n",
              "      const buttonEl =\n",
              "        document.querySelector('#df-088b9a41-d70d-4f07-bf28-3a75e9b95016 button.colab-df-convert');\n",
              "      buttonEl.style.display =\n",
              "        google.colab.kernel.accessAllowed ? 'block' : 'none';\n",
              "\n",
              "      async function convertToInteractive(key) {\n",
              "        const element = document.querySelector('#df-088b9a41-d70d-4f07-bf28-3a75e9b95016');\n",
              "        const dataTable =\n",
              "          await google.colab.kernel.invokeFunction('convertToInteractive',\n",
              "                                                    [key], {});\n",
              "        if (!dataTable) return;\n",
              "\n",
              "        const docLinkHtml = 'Like what you see? Visit the ' +\n",
              "          '<a target=\"_blank\" href=https://colab.research.google.com/notebooks/data_table.ipynb>data table notebook</a>'\n",
              "          + ' to learn more about interactive tables.';\n",
              "        element.innerHTML = '';\n",
              "        dataTable['output_type'] = 'display_data';\n",
              "        await google.colab.output.renderOutput(dataTable, element);\n",
              "        const docLink = document.createElement('div');\n",
              "        docLink.innerHTML = docLinkHtml;\n",
              "        element.appendChild(docLink);\n",
              "      }\n",
              "    </script>\n",
              "  </div>\n",
              "\n",
              "\n",
              "<div id=\"df-b2706107-732c-46e9-ba10-cbe08f1d075b\">\n",
              "  <button class=\"colab-df-quickchart\" onclick=\"quickchart('df-b2706107-732c-46e9-ba10-cbe08f1d075b')\"\n",
              "            title=\"Suggest charts\"\n",
              "            style=\"display:none;\">\n",
              "\n",
              "<svg xmlns=\"http://www.w3.org/2000/svg\" height=\"24px\"viewBox=\"0 0 24 24\"\n",
              "     width=\"24px\">\n",
              "    <g>\n",
              "        <path d=\"M19 3H5c-1.1 0-2 .9-2 2v14c0 1.1.9 2 2 2h14c1.1 0 2-.9 2-2V5c0-1.1-.9-2-2-2zM9 17H7v-7h2v7zm4 0h-2V7h2v10zm4 0h-2v-4h2v4z\"/>\n",
              "    </g>\n",
              "</svg>\n",
              "  </button>\n",
              "\n",
              "<style>\n",
              "  .colab-df-quickchart {\n",
              "      --bg-color: #E8F0FE;\n",
              "      --fill-color: #1967D2;\n",
              "      --hover-bg-color: #E2EBFA;\n",
              "      --hover-fill-color: #174EA6;\n",
              "      --disabled-fill-color: #AAA;\n",
              "      --disabled-bg-color: #DDD;\n",
              "  }\n",
              "\n",
              "  [theme=dark] .colab-df-quickchart {\n",
              "      --bg-color: #3B4455;\n",
              "      --fill-color: #D2E3FC;\n",
              "      --hover-bg-color: #434B5C;\n",
              "      --hover-fill-color: #FFFFFF;\n",
              "      --disabled-bg-color: #3B4455;\n",
              "      --disabled-fill-color: #666;\n",
              "  }\n",
              "\n",
              "  .colab-df-quickchart {\n",
              "    background-color: var(--bg-color);\n",
              "    border: none;\n",
              "    border-radius: 50%;\n",
              "    cursor: pointer;\n",
              "    display: none;\n",
              "    fill: var(--fill-color);\n",
              "    height: 32px;\n",
              "    padding: 0;\n",
              "    width: 32px;\n",
              "  }\n",
              "\n",
              "  .colab-df-quickchart:hover {\n",
              "    background-color: var(--hover-bg-color);\n",
              "    box-shadow: 0 1px 2px rgba(60, 64, 67, 0.3), 0 1px 3px 1px rgba(60, 64, 67, 0.15);\n",
              "    fill: var(--button-hover-fill-color);\n",
              "  }\n",
              "\n",
              "  .colab-df-quickchart-complete:disabled,\n",
              "  .colab-df-quickchart-complete:disabled:hover {\n",
              "    background-color: var(--disabled-bg-color);\n",
              "    fill: var(--disabled-fill-color);\n",
              "    box-shadow: none;\n",
              "  }\n",
              "\n",
              "  .colab-df-spinner {\n",
              "    border: 2px solid var(--fill-color);\n",
              "    border-color: transparent;\n",
              "    border-bottom-color: var(--fill-color);\n",
              "    animation:\n",
              "      spin 1s steps(1) infinite;\n",
              "  }\n",
              "\n",
              "  @keyframes spin {\n",
              "    0% {\n",
              "      border-color: transparent;\n",
              "      border-bottom-color: var(--fill-color);\n",
              "      border-left-color: var(--fill-color);\n",
              "    }\n",
              "    20% {\n",
              "      border-color: transparent;\n",
              "      border-left-color: var(--fill-color);\n",
              "      border-top-color: var(--fill-color);\n",
              "    }\n",
              "    30% {\n",
              "      border-color: transparent;\n",
              "      border-left-color: var(--fill-color);\n",
              "      border-top-color: var(--fill-color);\n",
              "      border-right-color: var(--fill-color);\n",
              "    }\n",
              "    40% {\n",
              "      border-color: transparent;\n",
              "      border-right-color: var(--fill-color);\n",
              "      border-top-color: var(--fill-color);\n",
              "    }\n",
              "    60% {\n",
              "      border-color: transparent;\n",
              "      border-right-color: var(--fill-color);\n",
              "    }\n",
              "    80% {\n",
              "      border-color: transparent;\n",
              "      border-right-color: var(--fill-color);\n",
              "      border-bottom-color: var(--fill-color);\n",
              "    }\n",
              "    90% {\n",
              "      border-color: transparent;\n",
              "      border-bottom-color: var(--fill-color);\n",
              "    }\n",
              "  }\n",
              "</style>\n",
              "\n",
              "  <script>\n",
              "    async function quickchart(key) {\n",
              "      const quickchartButtonEl =\n",
              "        document.querySelector('#' + key + ' button');\n",
              "      quickchartButtonEl.disabled = true;  // To prevent multiple clicks.\n",
              "      quickchartButtonEl.classList.add('colab-df-spinner');\n",
              "      try {\n",
              "        const charts = await google.colab.kernel.invokeFunction(\n",
              "            'suggestCharts', [key], {});\n",
              "      } catch (error) {\n",
              "        console.error('Error during call to suggestCharts:', error);\n",
              "      }\n",
              "      quickchartButtonEl.classList.remove('colab-df-spinner');\n",
              "      quickchartButtonEl.classList.add('colab-df-quickchart-complete');\n",
              "    }\n",
              "    (() => {\n",
              "      let quickchartButtonEl =\n",
              "        document.querySelector('#df-b2706107-732c-46e9-ba10-cbe08f1d075b button');\n",
              "      quickchartButtonEl.style.display =\n",
              "        google.colab.kernel.accessAllowed ? 'block' : 'none';\n",
              "    })();\n",
              "  </script>\n",
              "</div>\n",
              "\n",
              "    </div>\n",
              "  </div>\n"
            ],
            "application/vnd.google.colaboratory.intrinsic+json": {
              "type": "dataframe",
              "variable_name": "data",
              "summary": "{\n  \"name\": \"data\",\n  \"rows\": 50000,\n  \"fields\": [\n    {\n      \"column\": \"review\",\n      \"properties\": {\n        \"dtype\": \"string\",\n        \"num_unique_values\": 49572,\n        \"samples\": [\n          \"rent movi huge dudikoff fan figur bad boy wrong 15 minut mark begi other let rip dvd fling back rental store refus swore get better wrong movi lack everyth actor deliv line much emot comatos rock plot ridicul offend hollywood assum peopl dumb enough enjoy none charact interact well ice give one worst perform watch footag wrong plane bad guy stand get shot clip empti miss everyth want scream bang head concret movi hit plateau ignor peopl space station use elev travel space suit need graviti space regardless real astronaut may say finish movi hate want finish movi slow suicid could feel cerebr cortex plan aveng tortur put\",\n          \"unfortun movi reli bad pun taglin titl releg 2 00 bin decid tri second consecut bad movi movi night winner hous dead go one want laughabl flick witch jump water set fire mr miner guy took dump wood guy grab new girlfriend right front old one rememb much els last third movi utterli insipid wait agoni end\",\n          \"without doubt beat street best film breakin scene everyth spot cloth puma music importantli danc storylin basic hey what tell stori whole point film show kid moment time matter show teenag gener good matter everyday kid music danc friendship watch dvd recent plesantli surpris well stood test time cloth look date possibl puma massiv comeback music still sound fresh danc still captiv watch film anyon 10 25 year age see part youth cultur\"\n        ],\n        \"semantic_type\": \"\",\n        \"description\": \"\"\n      }\n    },\n    {\n      \"column\": \"sentiment\",\n      \"properties\": {\n        \"dtype\": \"category\",\n        \"num_unique_values\": 2,\n        \"samples\": [\n          \"negative\",\n          \"positive\"\n        ],\n        \"semantic_type\": \"\",\n        \"description\": \"\"\n      }\n    }\n  ]\n}"
            }
          },
          "metadata": {},
          "execution_count": 33
        }
      ],
      "source": [
        "data.head()"
      ]
    },
    {
      "cell_type": "markdown",
      "metadata": {
        "id": "GSd_wxoWkjl9"
      },
      "source": [
        "# Encoding\n",
        "Now, it is important that for the machine to understand textual data, it needs to represent it as a numerical value or vector. For the machine to draw and perform a similarity search, it can only do so on numerical vectors."
      ]
    },
    {
      "cell_type": "markdown",
      "metadata": {
        "id": "-j77dbU2lTBd"
      },
      "source": [
        "## Frequency Based\n",
        "Here, we will be encoding a single word/token based on it's frequency in the sample size. The methods to do so are :     \n",
        "\n",
        "* One Hot Encoding (OHE)\n",
        "* Bag of Words (BOW)\n",
        "* N-Grams\n",
        "* Term Frequency - Inverse Document Frequency (TF-IDF)\n",
        "\n",
        "Let us now go ahead and explore all these."
      ]
    },
    {
      "cell_type": "markdown",
      "metadata": {
        "id": "07EwZY31mdHA"
      },
      "source": [
        "### One Hot Encoding\n",
        "This is the most simple way of converting a word to a vector. It is a binary vector representation of the words in the document,which is also known as Count Vectorization.\n",
        "\n",
        "This returns the index of the word in the given vocabulary size. The vocabulary size is the total number of unique words in the document. The length of the vector is the vocabulary size and the index of the word in the vocabulary is marked as **1** and the rest of the indices are marked as **0**, which indicates the presence of that particular word in the overal sentence.\n",
        "\n",
        "Let us understand this with an example using the **sklearn** library"
      ]
    },
    {
      "cell_type": "code",
      "execution_count": null,
      "metadata": {
        "id": "twphue4CApje"
      },
      "outputs": [],
      "source": [
        "sent=[  ['the glass of milk'],\n",
        "     ['the glass of juice'],\n",
        "     ['the cup of tea'],\n",
        "    ['I am a good boy'],\n",
        "     ['I am a good developer'],\n",
        "     ['understand the meaning of words'],\n",
        "     ['your videos are good']]"
      ]
    },
    {
      "cell_type": "code",
      "execution_count": null,
      "metadata": {
        "id": "Uc6Mk-t5ouHu"
      },
      "outputs": [],
      "source": [
        "# Initilaise and flattening the sentences\n",
        "ohe = OneHotEncoder(handle_unknown='ignore')"
      ]
    },
    {
      "cell_type": "code",
      "execution_count": null,
      "metadata": {
        "id": "o-BG7ECVo57C"
      },
      "outputs": [],
      "source": [
        "# Fitting and transforming the sentences into arrays\n",
        "encoded_sentences = ohe.fit_transform(sent).toarray()"
      ]
    },
    {
      "cell_type": "code",
      "execution_count": null,
      "metadata": {
        "colab": {
          "base_uri": "https://localhost:8080/"
        },
        "id": "sJiTa0rSpLY4",
        "outputId": "d5a033c7-a4bb-4f2c-d4ff-2127f3254342"
      },
      "outputs": [
        {
          "output_type": "execute_result",
          "data": {
            "text/plain": [
              "array([[0., 0., 0., 0., 1., 0., 0.],\n",
              "       [0., 0., 0., 1., 0., 0., 0.],\n",
              "       [0., 0., 1., 0., 0., 0., 0.],\n",
              "       [1., 0., 0., 0., 0., 0., 0.],\n",
              "       [0., 1., 0., 0., 0., 0., 0.],\n",
              "       [0., 0., 0., 0., 0., 1., 0.],\n",
              "       [0., 0., 0., 0., 0., 0., 1.]])"
            ]
          },
          "metadata": {},
          "execution_count": 37
        }
      ],
      "source": [
        "encoded_sentences"
      ]
    },
    {
      "cell_type": "markdown",
      "metadata": {
        "id": "0vN_HIX0phMi"
      },
      "source": [
        "Above, we have a matrix where each row represents a sentence and each column represents a word in the vocabulary. The value of each cell indicates whether the word is present in the sentence or not.\n",
        "\n",
        "Now, a key disadvantage in using this method is that it creates a huge **sparse matrix** i.e. a representation has a lot of 0s which do not mean anything other than the negation of the presence of a particular word. Due to this, context is not retained as further processing happens."
      ]
    },
    {
      "cell_type": "markdown",
      "metadata": {
        "id": "WXYSrSXPuIXb"
      },
      "source": [
        "### Bag of Words\n",
        "Bag of words is a method to convert text data into numerical data. It is a way of extracting features from the text for use in machine learning algorithms.\n",
        "\n",
        "It is called bag of words because any information about the order or structure of words in the document is discarded.\n",
        "The model is only concerned with whether known words occur in the document, not where in the document. Let us see an example using the **sklearn** library.\n"
      ]
    },
    {
      "cell_type": "code",
      "execution_count": null,
      "metadata": {
        "colab": {
          "base_uri": "https://localhost:8080/"
        },
        "id": "AoEUh-sDtG0b",
        "outputId": "869cf2ca-6f9a-496b-df0f-248b7fcc61de"
      },
      "outputs": [
        {
          "output_type": "execute_result",
          "data": {
            "text/plain": [
              "array([[0, 0, 0, 0, 0, 1, 0, 0, 0, 1, 1, 0, 0, 0, 0, 2, 0, 0, 0, 0],\n",
              "       [0, 0, 0, 0, 0, 2, 0, 1, 0, 0, 1, 0, 0, 0, 0, 2, 0, 0, 0, 0],\n",
              "       [0, 0, 0, 1, 0, 0, 0, 0, 0, 0, 1, 1, 1, 1, 1, 4, 0, 0, 0, 0],\n",
              "       [1, 0, 1, 0, 0, 0, 2, 0, 0, 0, 0, 0, 0, 0, 0, 0, 0, 0, 0, 0],\n",
              "       [1, 0, 0, 0, 1, 0, 1, 0, 0, 0, 0, 0, 0, 0, 0, 0, 0, 0, 0, 0],\n",
              "       [0, 0, 0, 0, 0, 0, 0, 0, 1, 0, 1, 0, 0, 0, 0, 1, 1, 0, 1, 0],\n",
              "       [0, 1, 0, 0, 0, 0, 1, 0, 0, 0, 0, 0, 0, 0, 0, 0, 0, 1, 0, 1]])"
            ]
          },
          "metadata": {},
          "execution_count": 38
        }
      ],
      "source": [
        "sent=['the glass of the milk',\n",
        "     'the glass of the glass juice',\n",
        "     'the cup of the tea the one on the table',\n",
        "    'I am a good good boy',\n",
        "     'I am a good developer',\n",
        "     'understand the meaning of words',\n",
        "     'your videos are good',]\n",
        "\n",
        "cv = CountVectorizer()\n",
        "X = cv.fit_transform(sent).toarray()\n",
        "\n",
        "X"
      ]
    },
    {
      "cell_type": "markdown",
      "metadata": {
        "id": "gFvhcdpSxGtP"
      },
      "source": [
        "In the above, each row represents a sentence while each column implies a unique word.\n",
        "\n",
        "This **BOW** method stores the number of times a unique word has occured in a sentence. It is better than the one hot encoding method as it is easier to interpret.\n",
        "\n",
        "However, it also has it's disadvantages. In the case of a large vocabulary, the eventuality is that we will obtain a sparse matrix for most textual data and also, this method will not be able to handle any out of vocabulary words.\n",
        "\n",
        "A major issue here is that it does not capture the semantic meaning of words or the text, it only stores their frequency. Now, since it is only concerned with the frequency of words, it does not take into account the meaning of the words, which is important for any language based task."
      ]
    },
    {
      "cell_type": "markdown",
      "metadata": {
        "id": "8_AmxCLO1hsX"
      },
      "source": [
        "### N Grams\n",
        "Now, n-grams is a method to convert text data into numerical data and is similar to the method shown above, with only one key difference in it's processing.\n",
        "\n",
        "Instead of now choosing one word at a time to create a vocabulary, here we choose **n** words to create unique pairs of n words (occuring sequentially) combined to form the words/phrases in vocabulary. A few types can be :     \n",
        "\n",
        "* Unigram [Bag of Words] (n=1)\n",
        "* Bigram (n=2)\n",
        "* Trigram (n=3)\n",
        "\n",
        "\n",
        "Let us see an example of a **bigram** using the **sklearn** library.\n"
      ]
    },
    {
      "cell_type": "code",
      "execution_count": null,
      "metadata": {
        "colab": {
          "base_uri": "https://localhost:8080/"
        },
        "id": "2cHU5ovPx9xD",
        "outputId": "c7187b7c-2f2a-4fec-829c-dcb5060ae63a"
      },
      "outputs": [
        {
          "output_type": "execute_result",
          "data": {
            "text/plain": [
              "array([[0, 0, 0, 0, 0, 0, 0, 0, 1, 0, 1, 0, 0, 0, 0, 0, 0, 0, 1, 1, 1, 0,\n",
              "        0, 0, 0, 0, 0, 0, 0, 2, 0, 1, 0, 1, 0, 0, 0, 0, 0, 0, 0, 0, 0, 0],\n",
              "       [0, 0, 0, 0, 0, 0, 0, 0, 2, 1, 1, 0, 0, 0, 0, 1, 0, 0, 0, 1, 1, 0,\n",
              "        0, 0, 0, 0, 0, 0, 0, 2, 0, 2, 0, 0, 0, 0, 0, 0, 0, 0, 0, 0, 0, 0],\n",
              "       [0, 0, 0, 0, 0, 1, 1, 0, 0, 0, 0, 0, 0, 0, 0, 0, 0, 0, 0, 1, 1, 0,\n",
              "        1, 1, 1, 1, 1, 1, 1, 4, 1, 0, 0, 0, 1, 1, 1, 0, 0, 0, 0, 0, 0, 0],\n",
              "       [1, 1, 0, 0, 1, 0, 0, 0, 0, 0, 0, 2, 1, 0, 1, 0, 0, 0, 0, 0, 0, 0,\n",
              "        0, 0, 0, 0, 0, 0, 0, 0, 0, 0, 0, 0, 0, 0, 0, 0, 0, 0, 0, 0, 0, 0],\n",
              "       [1, 1, 0, 0, 0, 0, 0, 1, 0, 0, 0, 1, 0, 1, 0, 0, 0, 0, 0, 0, 0, 0,\n",
              "        0, 0, 0, 0, 0, 0, 0, 0, 0, 0, 0, 0, 0, 0, 0, 0, 0, 0, 0, 0, 0, 0],\n",
              "       [0, 0, 0, 0, 0, 0, 0, 0, 0, 0, 0, 0, 0, 0, 0, 0, 1, 1, 0, 1, 0, 1,\n",
              "        0, 0, 0, 0, 0, 0, 0, 1, 0, 0, 1, 0, 0, 0, 0, 1, 1, 0, 0, 1, 0, 0],\n",
              "       [0, 0, 1, 1, 0, 0, 0, 0, 0, 0, 0, 1, 0, 0, 0, 0, 0, 0, 0, 0, 0, 0,\n",
              "        0, 0, 0, 0, 0, 0, 0, 0, 0, 0, 0, 0, 0, 0, 0, 0, 0, 1, 1, 0, 1, 1]])"
            ]
          },
          "metadata": {},
          "execution_count": 39
        }
      ],
      "source": [
        "sent=['the glass of the milk',\n",
        "     'the glass of the glass juice',\n",
        "     'the cup of the tea the one on the table',\n",
        "    'I am a good good boy',\n",
        "     'I am a good developer',\n",
        "     'understand the meaning of words',\n",
        "     'your videos are good',]\n",
        "\n",
        "cv2 = CountVectorizer(ngram_range = (1,2)) # We set the n-gram range to make it process the words in n given pairs. Here, default is (1,1) which implies a unigram\n",
        "X2 = cv2.fit_transform(sent).toarray()\n",
        "\n",
        "X2"
      ]
    },
    {
      "cell_type": "markdown",
      "metadata": {
        "id": "dHBEOBGE4H0V"
      },
      "source": [
        "Now, although this can capture a bit context as it does create windown to store unique phrases, this can work for simple tasks or as a baseline approach but it may faulter on short and long term dependencies.\n",
        "\n",
        "\n",
        "Hence, we would need another method which tries to further understand the context and meaning of the text."
      ]
    },
    {
      "cell_type": "markdown",
      "metadata": {
        "id": "Kz_Z-dd1KQr4"
      },
      "source": [
        "### Term Frequency - Inverse Document Frequency (TF-IDF)\n",
        "It is a numerical statistic that is intended to reflect how important a word is to a document in a collection or corpus.\n",
        "It is often used as a weighting factor in information retrieval and text mining.\n",
        "\n",
        "The importance increases proportionally to the number of times a word appears in the document but is offset by the frequency of the word in the corpus. With this, a word with a higher frequency in a document is implied to have a higher value and is reflected accordingly.\n",
        "\n",
        "TF-IDF is calculated by multiplying two values:\n",
        "\n",
        "* **Term Frequency (TF)**: This measures how often a word appears in a document.\n",
        "\n",
        "* **Inverse Document Frequency (IDF)**: This measures how important a word is to the document collection as a whole.\n",
        "\n",
        "It's formula is :\n",
        "\n",
        "$$ TF * IDF$$\n",
        "\n",
        "\n",
        "IDF Formula:\n",
        "\n",
        " $$IDF = log(\\frac{N + 1}{df + 1})$$\n",
        "\n",
        "\n",
        "Here,\n",
        "* N is the total number of documents in the collection.\n",
        "* df is the number of documents that contain the word.\n",
        "\n",
        "\n",
        "Let us see an example of a **TD-IDF** using the **sklearn** library."
      ]
    },
    {
      "cell_type": "code",
      "execution_count": null,
      "metadata": {
        "colab": {
          "base_uri": "https://localhost:8080/"
        },
        "id": "yPVFGL683RgJ",
        "outputId": "96ac2f9f-972e-4234-dc6b-27e58ce91377"
      },
      "outputs": [
        {
          "output_type": "execute_result",
          "data": {
            "text/plain": [
              "array([[0.        , 0.        , 0.        , 0.        , 0.        ,\n",
              "        0.43831983, 0.        , 0.        , 0.        , 0.52804154,\n",
              "        0.32528383, 0.        , 0.        , 0.        , 0.        ,\n",
              "        0.65056767, 0.        , 0.        , 0.        , 0.        ],\n",
              "       [0.        , 0.        , 0.        , 0.        , 0.        ,\n",
              "        0.69821897, 0.        , 0.42057032, 0.        , 0.        ,\n",
              "        0.25907948, 0.        , 0.        , 0.        , 0.        ,\n",
              "        0.51815896, 0.        , 0.        , 0.        , 0.        ],\n",
              "       [0.        , 0.        , 0.        , 0.29551211, 0.        ,\n",
              "        0.        , 0.        , 0.        , 0.        , 0.        ,\n",
              "        0.1820412 , 0.29551211, 0.29551211, 0.29551211, 0.29551211,\n",
              "        0.72816479, 0.        , 0.        , 0.        , 0.        ],\n",
              "       [0.43137947, 0.        , 0.51968052, 0.        , 0.        ,\n",
              "        0.        , 0.73745773, 0.        , 0.        , 0.        ,\n",
              "        0.        , 0.        , 0.        , 0.        , 0.        ,\n",
              "        0.        , 0.        , 0.        , 0.        , 0.        ],\n",
              "       [0.56060334, 0.        , 0.        , 0.        , 0.67535583,\n",
              "        0.        , 0.47918515, 0.        , 0.        , 0.        ,\n",
              "        0.        , 0.        , 0.        , 0.        , 0.        ,\n",
              "        0.        , 0.        , 0.        , 0.        , 0.        ],\n",
              "       [0.        , 0.        , 0.        , 0.        , 0.        ,\n",
              "        0.        , 0.        , 0.        , 0.51578197, 0.        ,\n",
              "        0.3177317 , 0.        , 0.        , 0.        , 0.        ,\n",
              "        0.3177317 , 0.51578197, 0.        , 0.51578197, 0.        ],\n",
              "       [0.        , 0.53426056, 0.        , 0.        , 0.        ,\n",
              "        0.        , 0.37907384, 0.        , 0.        , 0.        ,\n",
              "        0.        , 0.        , 0.        , 0.        , 0.        ,\n",
              "        0.        , 0.        , 0.53426056, 0.        , 0.53426056]])"
            ]
          },
          "metadata": {},
          "execution_count": 40
        }
      ],
      "source": [
        "sent=['the glass of the milk',\n",
        "     'the glass of the glass juice',\n",
        "     'the cup of the tea the one on the table',\n",
        "    'I am a good good boy',\n",
        "     'I am a good developer',\n",
        "     'understand the meaning of words',\n",
        "     'your videos are good',]\n",
        "\n",
        "tfid = TfidfVectorizer()\n",
        "X_TFIDF = tfid.fit_transform(sent).toarray()\n",
        "X_TFIDF"
      ]
    },
    {
      "cell_type": "markdown",
      "metadata": {
        "id": "StkbdoX7QI8r"
      },
      "source": [
        "As we can see above, the words are now being captured along with their importance. However, this still does not capture context and the relationship between words as it should ideally."
      ]
    },
    {
      "cell_type": "markdown",
      "metadata": {
        "id": "mBQpSUSbPvf_"
      },
      "source": [
        "# Encoding - Project Approach\n",
        "In this project, our core focus is sentiment analysis. In sentiment analysis, transforming textual reviews into numerical features suitable for machine learning models is crucial. While several techniques exist, TF-IDF (Term Frequency-Inverse Document Frequency) offers distinct advantages when dealing with sentiment analysis data, especially compared to Bag-of-Words (BOW), N-grams, and One-Hot Encoding, such as :\n",
        "\n",
        "**Focus on Important Words**\n",
        "* TF-IDF goes beyond simple word frequency like BOW. It considers both how often a word appears within a review (Term Frequency) and how rare it is across all reviews (Inverse Document Frequency).\n",
        "* This prioritizes words that are significant for a specific review but not overly common, leading to a more nuanced representation of sentiment.\n",
        "\n",
        "**Handling Rare Words**\n",
        "* Unlike BOW and N-grams, which can struggle with rare words, TF-IDF assigns them weight based on their overall rarity.\n",
        "* This helps identify sentiment indicators that might be infrequent but hold strong emotional significance.\n",
        "\n",
        "**Sparse Feature Representation**\n",
        "* Compared to One-Hot Encoding, which creates a high-dimensional sparse matrix, TF-IDF results in a more compact representation.\n",
        "* This reduces computational complexity and improves model training efficiency, especially for large datasets.\n",
        "\n",
        "**Focus on Sentiment**:\n",
        "* By emphasizing words that convey sentiment within a specific review, TF-IDF captures the emotional tone more effectively.\n",
        "* This allows your machine learning model to learn the subtle differences in language that express positive, negative, or neutral sentiment.\n",
        "\n",
        "Hence, we will be choosing **TF-IDF** for this project."
      ]
    },
    {
      "cell_type": "code",
      "execution_count": null,
      "metadata": {
        "id": "KxfB9LALRvm7"
      },
      "outputs": [],
      "source": [
        "tfid = TfidfVectorizer()\n",
        "features = tfid.fit_transform(data['review'])"
      ]
    },
    {
      "cell_type": "markdown",
      "metadata": {
        "id": "Gmp80erwTUom"
      },
      "source": [
        "# Train Test Split"
      ]
    },
    {
      "cell_type": "markdown",
      "metadata": {
        "id": "dFz0Pfk9TQ5F"
      },
      "source": [
        "Let us now create the sentiment column."
      ]
    },
    {
      "cell_type": "code",
      "execution_count": null,
      "metadata": {
        "colab": {
          "base_uri": "https://localhost:8080/"
        },
        "id": "8wm91LTgTikP",
        "outputId": "fab99bee-4abe-489f-9caf-b1f6ddb27366"
      },
      "outputs": [
        {
          "output_type": "execute_result",
          "data": {
            "text/plain": [
              "array(['positive', 'negative'], dtype=object)"
            ]
          },
          "metadata": {},
          "execution_count": 42
        }
      ],
      "source": [
        "data[\"sentiment\"].unique()"
      ]
    },
    {
      "cell_type": "code",
      "execution_count": null,
      "metadata": {
        "id": "lh24gKaARvkl"
      },
      "outputs": [],
      "source": [
        "def sentiment_class(sentiment):\n",
        "  if(sentiment==\"positive\"):\n",
        "    return 1\n",
        "  else:\n",
        "    return 0\n",
        "\n",
        "\n",
        "sentiment = data[\"sentiment\"].apply(sentiment_class)"
      ]
    },
    {
      "cell_type": "code",
      "execution_count": null,
      "metadata": {
        "id": "eYNQcUUQRveq"
      },
      "outputs": [],
      "source": [
        "# Performing the split\n",
        "x_train, x_test, y_train, y_test = train_test_split(features,sentiment, test_size = 0.2, random_state = 1, shuffle = True)"
      ]
    },
    {
      "cell_type": "code",
      "execution_count": null,
      "metadata": {
        "colab": {
          "base_uri": "https://localhost:8080/"
        },
        "id": "3F1NLMEIRvcC",
        "outputId": "510a12b5-1c51-402d-af45-0c8e74b24be0"
      },
      "outputs": [
        {
          "output_type": "stream",
          "name": "stdout",
          "text": [
            "The number of training samples are : 40000\n",
            "The number of test samples are : 10000 \n"
          ]
        }
      ],
      "source": [
        "print(f\"The number of training samples are : {x_train.shape[0]}\")\n",
        "print(f\"The number of test samples are : {x_test.shape[0]} \")"
      ]
    },
    {
      "cell_type": "markdown",
      "metadata": {
        "id": "OvlQjlP-Y2Fr"
      },
      "source": [
        "# Metric Selection\n",
        "Before selecting a metric, let us see how our data set is distributed."
      ]
    },
    {
      "cell_type": "code",
      "execution_count": null,
      "metadata": {
        "colab": {
          "base_uri": "https://localhost:8080/"
        },
        "id": "2Ps_CUFrY8Y5",
        "outputId": "b4b7225b-5dd3-4e57-dd42-8ba0cd0168a3"
      },
      "outputs": [
        {
          "output_type": "execute_result",
          "data": {
            "text/plain": [
              "sentiment\n",
              "positive    25000\n",
              "negative    25000\n",
              "Name: count, dtype: int64"
            ]
          },
          "metadata": {},
          "execution_count": 46
        }
      ],
      "source": [
        "data['sentiment'].value_counts()"
      ]
    },
    {
      "cell_type": "markdown",
      "metadata": {
        "id": "uZAHejUMY-nk"
      },
      "source": [
        "As we can see, our data is a perfectly balanced data set. Since our dataset is perfectly balanced (equal number of reviews in each sentiment category - positive, negative, neutral), **F1-score** is an excellent choice for evaluating the sentiment analysis model's performance. We can say so as :\n",
        "\n",
        "\n",
        "* **Balances Precision and Recall**:\n",
        "  * F1-score is the harmonic mean of precision and recall. This means it takes both metrics into account and provides a single score that reflects the model's ability to identify true positives while minimizing false positives and false negatives.\n",
        "\n",
        "* **Focus on Overall Performance**:\n",
        "  * In a balanced dataset, F1-score directly reflects the model's accuracy in correctly classifying reviews across all sentiment categories. It avoids the potential pitfalls of focusing solely on precision or recall.\n",
        "\n",
        "* **Clear Interpretation**:\n",
        "  * A high F1-score indicates that the model performs well on both identifying relevant reviews (high recall) and avoiding misclassifications (high precision)."
      ]
    },
    {
      "cell_type": "markdown",
      "metadata": {
        "id": "vrhgNLe2U4iE"
      },
      "source": [
        "# Model Selection\n",
        "Here, we will perform with model selection on multiple classification models and will perform comparitive analysis to select our final model. Now, instead of apporaching all possible classification models, we will go with the following hybrid approach :     \n",
        "\n",
        "\n",
        "* **Start with a few well-suited models**\n",
        "  * Here, we will choose 3-5 models commonly used for sentiment analysis with justifications for each\n",
        "* **Training and evaluate these models**\n",
        "  * This gives us a baseline performance and insights into your data's characteristics.\n",
        "* **Additional models**\n",
        "  * If the initial models perform poorly, we might want to explore a few more with justifications based on some findings.\n",
        "\n",
        "So to begin with, let us start with a few models :\n",
        "\n",
        "1. **Logistic Regression**: Interpretable and works well with TF-IDF features.\n",
        "\n",
        "2. **Support Vector Machine (SVC)**: Powerful for handling high-dimensional data and non-linear relationships.\n",
        "\n",
        "3. **Naive Bayes (MultinomialNB)**: Simple, efficient, and often performs well for text classification tasks.\n",
        "\n",
        "4. **Random Forest**: Robust to overfitting and can handle complex data.\n",
        "\n",
        "5. **XGBoost**: Powerful ensemble method for achieving high accuracy."
      ]
    },
    {
      "cell_type": "code",
      "execution_count": null,
      "metadata": {
        "id": "4C27FqU7VLGG"
      },
      "outputs": [],
      "source": [
        "#Creating dictionary to store model scores\n",
        "scores_train = dict()\n",
        "scores_test = dict()"
      ]
    },
    {
      "cell_type": "markdown",
      "metadata": {
        "id": "uFiuuBf3bYbR"
      },
      "source": [
        "## Logistic Regression"
      ]
    },
    {
      "cell_type": "code",
      "execution_count": null,
      "metadata": {
        "id": "9k2KO_eKVLD8"
      },
      "outputs": [],
      "source": [
        "lr = LogisticRegression()\n",
        "lr.fit(x_train,y_train)\n",
        "y_pred_lr = lr.predict(x_test)\n",
        "y_pred_lr_train = lr.predict(x_train)\n",
        "\n",
        "f1_lr_train = f1_score(y_train,y_pred_lr_train)\n",
        "f1_lr_test = f1_score(y_test,y_pred_lr)"
      ]
    },
    {
      "cell_type": "code",
      "execution_count": null,
      "metadata": {
        "colab": {
          "base_uri": "https://localhost:8080/"
        },
        "id": "v-gEpR0RVLB2",
        "outputId": "166ef581-32f2-46e3-a295-c2974e0049ee"
      },
      "outputs": [
        {
          "output_type": "stream",
          "name": "stdout",
          "text": [
            "The score on training data is : 0.8790688498717697\n",
            "The score on test data is : 0.8666799125769918\n"
          ]
        }
      ],
      "source": [
        "scores_train[\"Logistic Regression\"] = f1_lr_train\n",
        "scores_test[\"Logistic Regression\"] = f1_lr_test\n",
        "\n",
        "print(f\"The score on training data is : {f1_lr_train}\")\n",
        "print(f\"The score on test data is : {f1_lr_test}\")"
      ]
    },
    {
      "cell_type": "markdown",
      "metadata": {
        "id": "PlQuiLgPevmp"
      },
      "source": [
        "## Support Vector Classifier (SVC)"
      ]
    },
    {
      "cell_type": "code",
      "execution_count": null,
      "metadata": {
        "id": "OCzGiAYQezq-"
      },
      "outputs": [],
      "source": [
        "svc = SVC()\n",
        "svc.fit(x_train,y_train)\n",
        "y_pred_svc = svc.predict(x_test)\n",
        "y_pred_svc_train = svc.predict(x_train)\n",
        "\n",
        "f1_svc_train = f1_score(y_train,y_pred_svc_train)\n",
        "f1_svc_test = f1_score(y_test,y_pred_svc)"
      ]
    },
    {
      "cell_type": "code",
      "execution_count": null,
      "metadata": {
        "colab": {
          "base_uri": "https://localhost:8080/"
        },
        "id": "GS5p3beXeznB",
        "outputId": "63bc9723-1842-438b-eb19-6ddf857671dc"
      },
      "outputs": [
        {
          "output_type": "stream",
          "name": "stdout",
          "text": [
            "The score on training data is : 0.9624736123183908\n",
            "The score on test data is : 0.870557871749057\n"
          ]
        }
      ],
      "source": [
        "scores_train[\"Support Vector Classifier\"] = f1_svc_train\n",
        "scores_test[\"Support Vector Classifier\"] = f1_svc_test\n",
        "\n",
        "print(f\"The score on training data is : {f1_svc_train}\")\n",
        "print(f\"The score on test data is : {f1_svc_test}\")"
      ]
    },
    {
      "cell_type": "markdown",
      "metadata": {
        "id": "VJKqmAacijrL"
      },
      "source": [
        "## Naive Bayes (Multinomial NB)"
      ]
    },
    {
      "cell_type": "code",
      "execution_count": null,
      "metadata": {
        "id": "oX0bt7tFiqKV"
      },
      "outputs": [],
      "source": [
        "mnb = MultinomialNB()\n",
        "mnb.fit(x_train,y_train)\n",
        "y_pred_mnb = mnb.predict(x_test)\n",
        "y_pred_mnb_train = mnb.predict(x_train)\n",
        "\n",
        "f1_mnb_train = f1_score(y_train,y_pred_mnb_train)\n",
        "f1_mnb_test = f1_score(y_test,y_pred_mnb)"
      ]
    },
    {
      "cell_type": "code",
      "execution_count": null,
      "metadata": {
        "colab": {
          "base_uri": "https://localhost:8080/"
        },
        "id": "VtX34zsOip4O",
        "outputId": "10a42533-c624-45c1-b1b4-c71360dca1dc"
      },
      "outputs": [
        {
          "output_type": "stream",
          "name": "stdout",
          "text": [
            "The score on training data is : 0.8421621090873388\n",
            "The score on test data is : 0.8361581920903954\n"
          ]
        }
      ],
      "source": [
        "scores_train[\"Multinomial NB\"] = f1_mnb_train\n",
        "scores_test[\"Multinomial NB\"] = f1_mnb_test\n",
        "\n",
        "print(f\"The score on training data is : {f1_mnb_train}\")\n",
        "print(f\"The score on test data is : {f1_mnb_test}\")"
      ]
    },
    {
      "cell_type": "markdown",
      "metadata": {
        "id": "_pIndBALiqqM"
      },
      "source": [
        "## Random Forest Classifier"
      ]
    },
    {
      "cell_type": "code",
      "execution_count": null,
      "metadata": {
        "id": "QFwFtCBsivxM"
      },
      "outputs": [],
      "source": [
        "rfc = RandomForestClassifier()\n",
        "rfc.fit(x_train,y_train)\n",
        "y_pred_rfc = rfc.predict(x_test)\n",
        "y_pred_rfc_train = rfc.predict(x_train)\n",
        "\n",
        "f1_rfc_train = f1_score(y_train,y_pred_rfc_train)\n",
        "f1_rfc_test = f1_score(y_test,y_pred_rfc)"
      ]
    },
    {
      "cell_type": "code",
      "execution_count": null,
      "metadata": {
        "colab": {
          "base_uri": "https://localhost:8080/"
        },
        "id": "S5XP2rNLivuY",
        "outputId": "8e814053-c8ab-41af-b773-3a815822c10e"
      },
      "outputs": [
        {
          "output_type": "stream",
          "name": "stdout",
          "text": [
            "The score on training data is : 1.0\n",
            "The score on test data is : 0.8379518072289157\n"
          ]
        }
      ],
      "source": [
        "scores_train[\"Random Forest Classifier\"] = f1_rfc_train\n",
        "scores_test[\"Random Forest Classifier\"] = f1_rfc_test\n",
        "\n",
        "print(f\"The score on training data is : {f1_rfc_train}\")\n",
        "print(f\"The score on test data is : {f1_rfc_test}\")"
      ]
    },
    {
      "cell_type": "markdown",
      "metadata": {
        "id": "AVB2kOcdiwP7"
      },
      "source": [
        "## XG-Boost"
      ]
    },
    {
      "cell_type": "code",
      "execution_count": null,
      "metadata": {
        "id": "OPGzgDGcizns"
      },
      "outputs": [],
      "source": [
        "xgbc = XGBClassifier()\n",
        "xgbc.fit(x_train,y_train)\n",
        "y_pred_xgbc = xgbc.predict(x_test)\n",
        "y_pred_xgbc_train = xgbc.predict(x_train)\n",
        "\n",
        "f1_xgbc_train = f1_score(y_train,y_pred_xgbc_train)\n",
        "f1_xgbc_test = f1_score(y_test,y_pred_xgbc)"
      ]
    },
    {
      "cell_type": "code",
      "execution_count": null,
      "metadata": {
        "colab": {
          "base_uri": "https://localhost:8080/"
        },
        "id": "RCUl-3CqizbN",
        "outputId": "7fba69dc-2d01-4f7f-ba2e-b2b3f2e802f0"
      },
      "outputs": [
        {
          "output_type": "stream",
          "name": "stdout",
          "text": [
            "The score on training data is : 0.9353918772740684\n",
            "The score on test data is : 0.8525849335302806\n"
          ]
        }
      ],
      "source": [
        "scores_train[\"XG-Boost Classifier\"] = f1_xgbc_train\n",
        "scores_test[\"XG-Boost Classifier\"] = f1_xgbc_test\n",
        "\n",
        "print(f\"The score on training data is : {f1_xgbc_train}\")\n",
        "print(f\"The score on test data is : {f1_xgbc_test}\")"
      ]
    },
    {
      "cell_type": "markdown",
      "source": [
        "Let us see how well the models perform visually."
      ],
      "metadata": {
        "id": "q_UrN_bkl-cS"
      }
    },
    {
      "cell_type": "code",
      "source": [
        "models = ['LR','SVC','MNB','RFC','XGBC']\n",
        "x = range(len(models))\n",
        "bar_width = 0.35\n",
        "\n",
        "plt.bar(x, scores_train.values(), bar_width, label='Training Score', color='b')\n",
        "\n",
        "plt.bar([p + bar_width for p in x], scores_test.values(), bar_width, label='Test Score', color='orange')\n",
        "\n",
        "plt.xlabel('Model')\n",
        "plt.ylabel('F1-Score')\n",
        "plt.title('Comparison of Training and Test Scores')\n",
        "\n",
        "plt.xticks([p + bar_width / 2 for p in x], models, rotation=45)\n",
        "\n",
        "\n",
        "plt.legend()\n",
        "plt.tight_layout()\n",
        "plt.show()"
      ],
      "metadata": {
        "colab": {
          "base_uri": "https://localhost:8080/",
          "height": 487
        },
        "id": "UeFpk-9pmvAZ",
        "outputId": "d331801b-67e4-45cf-daeb-7c2461d60b9c"
      },
      "execution_count": null,
      "outputs": [
        {
          "output_type": "display_data",
          "data": {
            "text/plain": [
              "<Figure size 640x480 with 1 Axes>"
            ],
            "image/png": "[encoded data removed]"
          },
          "metadata": {}
        }
      ]
    },
    {
      "cell_type": "markdown",
      "metadata": {
        "id": "MndNqe-s5RDO"
      },
      "source": [
        "# Final Model Selection and Evaluation\n",
        "From the above information, let us use the **Logistic Regression** to train on the entire data set, as it works well on both training and test data.\n",
        "\n",
        "Also, we will use this model as it is a basic model and would demonstrate our point well."
      ]
    },
    {
      "cell_type": "code",
      "source": [
        "model = LogisticRegression(\n",
        "    C=1.0, class_weight=None, dual=False,\n",
        "    fit_intercept=True, intercept_scaling=1,\n",
        "    l1_ratio=None, max_iter=100,\n",
        "    multi_class='auto', n_jobs=None,\n",
        "    penalty='l2', random_state=None,\n",
        "    solver='lbfgs', tol=0.0001, verbose=0,\n",
        "    warm_start=False\n",
        "    )\n",
        "model.fit(features,sentiment)"
      ],
      "metadata": {
        "id": "o8s4NmxwdwlZ",
        "colab": {
          "base_uri": "https://localhost:8080/",
          "height": 74
        },
        "outputId": "7272b10c-e515-443d-c799-391220fda831"
      },
      "execution_count": null,
      "outputs": [
        {
          "output_type": "execute_result",
          "data": {
            "text/plain": [
              "LogisticRegression()"
            ],
            "text/html": [
              "<style>#sk-container-id-1 {color: black;background-color: white;}#sk-container-id-1 pre{padding: 0;}#sk-container-id-1 div.sk-toggleable {background-color: white;}#sk-container-id-1 label.sk-toggleable__label {cursor: pointer;display: block;width: 100%;margin-bottom: 0;padding: 0.3em;box-sizing: border-box;text-align: center;}#sk-container-id-1 label.sk-toggleable__label-arrow:before {content: \"▸\";float: left;margin-right: 0.25em;color: #696969;}#sk-container-id-1 label.sk-toggleable__label-arrow:hover:before {color: black;}#sk-container-id-1 div.sk-estimator:hover label.sk-toggleable__label-arrow:before {color: black;}#sk-container-id-1 div.sk-toggleable__content {max-height: 0;max-width: 0;overflow: hidden;text-align: left;background-color: #f0f8ff;}#sk-container-id-1 div.sk-toggleable__content pre {margin: 0.2em;color: black;border-radius: 0.25em;background-color: #f0f8ff;}#sk-container-id-1 input.sk-toggleable__control:checked~div.sk-toggleable__content {max-height: 200px;max-width: 100%;overflow: auto;}#sk-container-id-1 input.sk-toggleable__control:checked~label.sk-toggleable__label-arrow:before {content: \"▾\";}#sk-container-id-1 div.sk-estimator input.sk-toggleable__control:checked~label.sk-toggleable__label {background-color: #d4ebff;}#sk-container-id-1 div.sk-label input.sk-toggleable__control:checked~label.sk-toggleable__label {background-color: #d4ebff;}#sk-container-id-1 input.sk-hidden--visually {border: 0;clip: rect(1px 1px 1px 1px);clip: rect(1px, 1px, 1px, 1px);height: 1px;margin: -1px;overflow: hidden;padding: 0;position: absolute;width: 1px;}#sk-container-id-1 div.sk-estimator {font-family: monospace;background-color: #f0f8ff;border: 1px dotted black;border-radius: 0.25em;box-sizing: border-box;margin-bottom: 0.5em;}#sk-container-id-1 div.sk-estimator:hover {background-color: #d4ebff;}#sk-container-id-1 div.sk-parallel-item::after {content: \"\";width: 100%;border-bottom: 1px solid gray;flex-grow: 1;}#sk-container-id-1 div.sk-label:hover label.sk-toggleable__label {background-color: #d4ebff;}#sk-container-id-1 div.sk-serial::before {content: \"\";position: absolute;border-left: 1px solid gray;box-sizing: border-box;top: 0;bottom: 0;left: 50%;z-index: 0;}#sk-container-id-1 div.sk-serial {display: flex;flex-direction: column;align-items: center;background-color: white;padding-right: 0.2em;padding-left: 0.2em;position: relative;}#sk-container-id-1 div.sk-item {position: relative;z-index: 1;}#sk-container-id-1 div.sk-parallel {display: flex;align-items: stretch;justify-content: center;background-color: white;position: relative;}#sk-container-id-1 div.sk-item::before, #sk-container-id-1 div.sk-parallel-item::before {content: \"\";position: absolute;border-left: 1px solid gray;box-sizing: border-box;top: 0;bottom: 0;left: 50%;z-index: -1;}#sk-container-id-1 div.sk-parallel-item {display: flex;flex-direction: column;z-index: 1;position: relative;background-color: white;}#sk-container-id-1 div.sk-parallel-item:first-child::after {align-self: flex-end;width: 50%;}#sk-container-id-1 div.sk-parallel-item:last-child::after {align-self: flex-start;width: 50%;}#sk-container-id-1 div.sk-parallel-item:only-child::after {width: 0;}#sk-container-id-1 div.sk-dashed-wrapped {border: 1px dashed gray;margin: 0 0.4em 0.5em 0.4em;box-sizing: border-box;padding-bottom: 0.4em;background-color: white;}#sk-container-id-1 div.sk-label label {font-family: monospace;font-weight: bold;display: inline-block;line-height: 1.2em;}#sk-container-id-1 div.sk-label-container {text-align: center;}#sk-container-id-1 div.sk-container {/* jupyter's `normalize.less` sets `[hidden] { display: none; }` but bootstrap.min.css set `[hidden] { display: none !important; }` so we also need the `!important` here to be able to override the default hidden behavior on the sphinx rendered scikit-learn.org. See: https://github.com/scikit-learn/scikit-learn/issues/21755 */display: inline-block !important;position: relative;}#sk-container-id-1 div.sk-text-repr-fallback {display: none;}</style><div id=\"sk-container-id-1\" class=\"sk-top-container\"><div class=\"sk-text-repr-fallback\"><pre>LogisticRegression()</pre><b>In a Jupyter environment, please rerun this cell to show the HTML representation or trust the notebook. <br />On GitHub, the HTML representation is unable to render, please try loading this page with nbviewer.org.</b></div><div class=\"sk-container\" hidden><div class=\"sk-item\"><div class=\"sk-estimator sk-toggleable\"><input class=\"sk-toggleable__control sk-hidden--visually\" id=\"sk-estimator-id-1\" type=\"checkbox\" checked><label for=\"sk-estimator-id-1\" class=\"sk-toggleable__label sk-toggleable__label-arrow\">LogisticRegression</label><div class=\"sk-toggleable__content\"><pre>LogisticRegression()</pre></div></div></div></div></div>"
            ]
          },
          "metadata": {},
          "execution_count": 50
        }
      ]
    },
    {
      "cell_type": "code",
      "source": [
        "y_pred_model = model.predict(x_test)\n",
        "y_pred_model_train = model.predict(x_train)\n",
        "\n",
        "f1_model_train = f1_score(y_train,y_pred_model_train)\n",
        "f1_model_test = f1_score(y_test,y_pred_model)"
      ],
      "metadata": {
        "id": "03Swy3w76mNR"
      },
      "execution_count": null,
      "outputs": []
    },
    {
      "cell_type": "code",
      "source": [
        "print(f\"The final score on training data is : {f1_model_train}\")\n",
        "print(f\"The final score on test data is : {f1_model_test}\")"
      ],
      "metadata": {
        "colab": {
          "base_uri": "https://localhost:8080/"
        },
        "id": "DaLX3C266zCb",
        "outputId": "45c9c607-b465-4e33-9c7e-975016c4b3da"
      },
      "execution_count": null,
      "outputs": [
        {
          "output_type": "stream",
          "name": "stdout",
          "text": [
            "The final score on training data is : 0.9267411950929957\n",
            "The final score on test data is : 0.9268583938700368\n"
          ]
        }
      ]
    },
    {
      "cell_type": "markdown",
      "source": [
        "# Conclusion\n",
        "In this exploration of sentiment analysis, we've witnessed the transformative power of data pre-processing. By prioritizing text cleaning, stemming, and TF-IDF, we constructed a foundation that empowered even a simple model like Logistic Regression to achieve an impressive F1-score of 92% approximately.\n",
        "\n",
        "This accomplishment highlights two key takeaways:\n",
        "\n",
        "* **Pre-processing as the Cornerstone**\n",
        "  * Text cleaning removes noise and inconsistencies, stemming captures word essence, and TF-IDF prioritizes relevant terms.\n",
        "  * These techniques significantly enhance a model's ability to grasp the sentiment within the text data.\n",
        "\n",
        "* **Simple Model, Strong Impact**\n",
        "  * The high score achieved with LR underscores the critical role of data preparation. If a basic model can perform so well, it speaks volumes about the effectiveness of our pre-processing pipeline.\n",
        "\n",
        "The 92% F1-score serves as a springboard for further exploration. We can delve into more complex models like LSTMs or ensemble methods like stacking to potentially push the boundaries of performance. Additionally, working with larger datasets could unlock even greater accuracy. We can see another technique in the next section.\n",
        "\n",
        "Sentiment analysis thrives on a strong foundation of data pre-processing. By investing time in cleaning and structuring your text data, we empower our models to extract valuable insights and unlock the power of sentiment analysis."
      ],
      "metadata": {
        "id": "xJu05BSAq-SG"
      }
    },
    {
      "cell_type": "markdown",
      "metadata": {
        "id": "EnwS35FNGDbp"
      },
      "source": [
        "# A Shift Towards Embeddings and advanced models\n",
        "\n",
        "While techniques like stemming, lemmatization, bag-of-words, n-grams, and TF-IDF have been instrumental in text classification for many years, particularly in domains like spam filtering and sentiment analysis, they have a significant limitation: they fail to capture the semantic meaning of text. These methods treat words in isolation, neglecting the relationships and context that are crucial for accurate classification.\n",
        "\n",
        "Imagine a sentence like \"The bank is on the river.\" By simply analyzing individual words, a traditional encoding method might struggle to differentiate between a financial institution and the edge of a body of water. This is where embedding-based methods come into play. These techniques go beyond word frequency and consider the semantic relationships between words, creating a richer representation of text that can be understood by machine learning models.\n",
        "\n",
        "The shift towards embedding-based methods for text classification represents a significant advancement in the field. By capturing the nuances of language, these techniques enable models to achieve higher accuracy and tackle more complex classification tasks. As natural language processing continues to evolve, embedding-based methods will likely play an even greater role in unlocking the true potential of text data."
      ]
    }
  ],
  "metadata": {
    "colab": {
      "provenance": []
    },
    "kernelspec": {
      "display_name": "Python 3",
      "name": "python3"
    },
    "language_info": {
      "name": "python"
    }
  },
  "nbformat": 4,
  "nbformat_minor": 0
}